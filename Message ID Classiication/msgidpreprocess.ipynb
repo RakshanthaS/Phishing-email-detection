{
 "cells": [
  {
   "cell_type": "markdown",
   "metadata": {},
   "source": [
    "# Message ID preprocessing"
   ]
  },
  {
   "cell_type": "code",
   "execution_count": 2,
   "metadata": {},
   "outputs": [],
   "source": [
    "import os\n",
    "import mailbox\n",
    "import sys\n",
    "import pprint\n",
    "import pandas as pd"
   ]
  },
  {
   "cell_type": "markdown",
   "metadata": {},
   "source": [
    "Extract message ids from spamassasin dataset(non phishing) and message ids from phishing dataset(Nazario dataset)"
   ]
  },
  {
   "cell_type": "code",
   "execution_count": 2,
   "metadata": {},
   "outputs": [],
   "source": [
    "def extract_message_id(mbox_file):\n",
    "    mbox = mailbox.mbox(mbox_file)\n",
    "    for key in mbox.iterkeys():\n",
    "        try:\n",
    "            message = mbox[key]\n",
    "        except mbox.errors.MessageParseError:\n",
    "            continue  # The message is malformed. Just leave it.\n",
    "        message_id = str(message['Message-ID'])\n",
    "        data_row = ['non-phishing'] + message_id.lstrip('<').rstrip('>').split('@')\n",
    "        return data_row\n",
    "\n",
    "data_all_rows = []\n",
    "for root, dirs, files in os.walk(\"./spamassasin/\"):\n",
    "    for file in files:\n",
    "        if file.endswith(\".mbox\"):\n",
    "            data_all_rows.append(extract_message_id(os.path.join(root, file)))\n",
    "data_all_rows = list(filter(None, data_all_rows))"
   ]
  },
  {
   "cell_type": "markdown",
   "metadata": {},
   "source": [
    "LHS And RHS of a message id have to be separated to differnt columns with class labels\n",
    "For eg:<20020923025816.8E7A34A8@mercea.net>.\n",
    "Format:       <LHS@RHS>\n",
    "RHS is the domain name and is the main feature.\n"
   ]
  },
  {
   "cell_type": "code",
   "execution_count": 4,
   "metadata": {},
   "outputs": [],
   "source": [
    "df = pd.DataFrame(data_all_rows, columns = ['class_label','LHS','RHS'])"
   ]
  },
  {
   "cell_type": "code",
   "execution_count": 5,
   "metadata": {},
   "outputs": [],
   "source": [
    "df.to_csv(r'./non_phishing.csv', index = False)"
   ]
  },
  {
   "cell_type": "code",
   "execution_count": 57,
   "metadata": {},
   "outputs": [],
   "source": [
    "df = pd.read_csv('phishingid.csv',header=None)\n",
    "\n",
    "#Create the data list\n",
    "data = []\n",
    "for index, row in df.iterrows():\n",
    "    data.append(['phishing']+row[0][2:-1].split('@'))\n",
    "    \n",
    "#Remove inaccurate values\n",
    "for x in data:\n",
    "    if len(x) != 3:\n",
    "        data.remove(x)\n",
    "    \n",
    "#Create the dataframe and export to csv\n",
    "pd.DataFrame(data,columns = ['class_label','LHS','RHS']).to_csv('phishing.csv',index=False)"
   ]
  }
 ],
 "metadata": {
  "kernelspec": {
   "display_name": "Python 3",
   "language": "python",
   "name": "python3"
  },
  "language_info": {
   "codemirror_mode": {
    "name": "ipython",
    "version": 3
   },
   "file_extension": ".py",
   "mimetype": "text/x-python",
   "name": "python",
   "nbconvert_exporter": "python",
   "pygments_lexer": "ipython3",
   "version": "3.7.0"
  }
 },
 "nbformat": 4,
 "nbformat_minor": 2
}
