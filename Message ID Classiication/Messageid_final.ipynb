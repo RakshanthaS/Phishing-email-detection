{
 "cells": [
  {
   "cell_type": "markdown",
   "metadata": {},
   "source": [
    "After preprocessing the message ids are stored in two files 'easyham.csv'(non phishing message id) and 'phishing.csv'"
   ]
  },
  {
   "cell_type": "code",
   "execution_count": 10,
   "metadata": {},
   "outputs": [],
   "source": [
    "import numpy as np\n",
    "import pandas as pd\n",
    "df=pd.read_csv('easy_ham.csv')\n",
    "rhs_data=df['RHS']"
   ]
  },
  {
   "cell_type": "code",
   "execution_count": 11,
   "metadata": {},
   "outputs": [],
   "source": [
    "import nltk\n",
    "from nltk.util import ngrams\n",
    "from nltk.collocations import BigramCollocationFinder\n",
    "from nltk.metrics import BigramAssocMeasures\n",
    "import re, string, collections\n",
    "from nltk.util import ngrams # function for making ngrams\n",
    "i=0\n",
    "list1=[]\n",
    "str=''\n",
    "while(i<len(rhs_data)):\n",
    "    str=str+ ' '+ rhs_data[i]\n",
    "    esBigrams = ngrams(i, 2)\n",
    "    #list1.append(list(esBigrams))\n",
    "    i=i+1\n",
    "word_fd = nltk.FreqDist(str)   #frequency distribution of each pair of letters or frequency of bigram appearing in dataset\n",
    "bigram_fd = nltk.FreqDist(nltk.bigrams(str))\n",
    "\n",
    "x=bigram_fd.most_common()"
   ]
  },
  {
   "cell_type": "code",
   "execution_count": 13,
   "metadata": {},
   "outputs": [
    {
     "data": {
      "text/plain": [
       "[(('o', 'r'), 1037),\n",
       " (('r', 'g'), 967),\n",
       " (('.', 'o'), 947),\n",
       " (('m', 'a'), 942),\n",
       " (('g', ' '), 873)]"
      ]
     },
     "execution_count": 13,
     "metadata": {},
     "output_type": "execute_result"
    }
   ],
   "source": [
    "x[0:5]\n"
   ]
  },
  {
   "cell_type": "code",
   "execution_count": 70,
   "metadata": {},
   "outputs": [],
   "source": [
    "df2 = pd.DataFrame(x, columns = ['Bigram', 'Frequency']) #The feature extracted is the bigram and its frequency in the dataset."
   ]
  },
  {
   "cell_type": "code",
   "execution_count": 72,
   "metadata": {},
   "outputs": [],
   "source": [
    "df2.to_csv('easy_ham_frquency.csv')"
   ]
  },
  {
   "cell_type": "code",
   "execution_count": 71,
   "metadata": {},
   "outputs": [],
   "source": [
    "df2['Label']= 0"
   ]
  },
  {
   "cell_type": "code",
   "execution_count": 73,
   "metadata": {},
   "outputs": [],
   "source": [
    "import pandas as pd\n",
    "\n",
    "a = pd.read_csv('easy_ham_frquency.csv')\n",
    "b = pd.read_csv('feature_extraction_bigram.csv')\n",
    "b = b.dropna(axis=1)\n",
    "merged = a.merge(b, on='Bigram')  #merge the frequency of bigram dataset of both phishing and non phishing.\n",
    "merged.to_csv(\"output.csv\", index=False)\n"
   ]
  },
  {
   "cell_type": "code",
   "execution_count": 27,
   "metadata": {},
   "outputs": [],
   "source": [
    "raw_data = pd.read_csv(\"new_frquency.csv\") \n",
    "x=raw_data['Bigram']"
   ]
  },
  {
   "cell_type": "code",
   "execution_count": 32,
   "metadata": {},
   "outputs": [],
   "source": [
    "def unicode(l):  #convert the bigram characters to unicode format so that it can be represented by classifiers.\n",
    "    #l=str(l)\n",
    "    x=ord(l[2])\n",
    "    return x"
   ]
  },
  {
   "cell_type": "code",
   "execution_count": 33,
   "metadata": {},
   "outputs": [],
   "source": [
    "def unicode2(l): #Since there are 2 characters in bigram two times unicode conversion needs to be performed.\n",
    "    #l=str(l)\n",
    "    x=ord(l[7])\n",
    "    return x"
   ]
  },
  {
   "cell_type": "code",
   "execution_count": 34,
   "metadata": {},
   "outputs": [],
   "source": [
    "raw_data['Bigram-1']=raw_data['Bigram'].apply(unicode)"
   ]
  },
  {
   "cell_type": "code",
   "execution_count": 35,
   "metadata": {},
   "outputs": [],
   "source": [
    "raw_data['Bigram-2']=raw_data['Bigram'].apply(unicode2)"
   ]
  },
  {
   "cell_type": "code",
   "execution_count": 36,
   "metadata": {},
   "outputs": [
    {
     "data": {
      "text/html": [
       "<div>\n",
       "<style scoped>\n",
       "    .dataframe tbody tr th:only-of-type {\n",
       "        vertical-align: middle;\n",
       "    }\n",
       "\n",
       "    .dataframe tbody tr th {\n",
       "        vertical-align: top;\n",
       "    }\n",
       "\n",
       "    .dataframe thead th {\n",
       "        text-align: right;\n",
       "    }\n",
       "</style>\n",
       "<table border=\"1\" class=\"dataframe\">\n",
       "  <thead>\n",
       "    <tr style=\"text-align: right;\">\n",
       "      <th></th>\n",
       "      <th>Unnamed: 0</th>\n",
       "      <th>Bigram</th>\n",
       "      <th>Frequency</th>\n",
       "      <th>Label</th>\n",
       "      <th>Bigram-1</th>\n",
       "      <th>Bigram-2</th>\n",
       "    </tr>\n",
       "  </thead>\n",
       "  <tbody>\n",
       "    <tr>\n",
       "      <th>0</th>\n",
       "      <td>0</td>\n",
       "      <td>('o', 'r')</td>\n",
       "      <td>1037</td>\n",
       "      <td>0</td>\n",
       "      <td>111</td>\n",
       "      <td>114</td>\n",
       "    </tr>\n",
       "    <tr>\n",
       "      <th>1</th>\n",
       "      <td>1</td>\n",
       "      <td>('r', 'g')</td>\n",
       "      <td>967</td>\n",
       "      <td>0</td>\n",
       "      <td>114</td>\n",
       "      <td>103</td>\n",
       "    </tr>\n",
       "    <tr>\n",
       "      <th>2</th>\n",
       "      <td>2</td>\n",
       "      <td>('.', 'o')</td>\n",
       "      <td>947</td>\n",
       "      <td>0</td>\n",
       "      <td>46</td>\n",
       "      <td>111</td>\n",
       "    </tr>\n",
       "    <tr>\n",
       "      <th>3</th>\n",
       "      <td>3</td>\n",
       "      <td>('m', 'a')</td>\n",
       "      <td>942</td>\n",
       "      <td>0</td>\n",
       "      <td>109</td>\n",
       "      <td>97</td>\n",
       "    </tr>\n",
       "    <tr>\n",
       "      <th>4</th>\n",
       "      <td>4</td>\n",
       "      <td>('g', ' ')</td>\n",
       "      <td>873</td>\n",
       "      <td>0</td>\n",
       "      <td>103</td>\n",
       "      <td>32</td>\n",
       "    </tr>\n",
       "  </tbody>\n",
       "</table>\n",
       "</div>"
      ],
      "text/plain": [
       "   Unnamed: 0      Bigram  Frequency  Label  Bigram-1  Bigram-2\n",
       "0           0  ('o', 'r')       1037      0       111       114\n",
       "1           1  ('r', 'g')        967      0       114       103\n",
       "2           2  ('.', 'o')        947      0        46       111\n",
       "3           3  ('m', 'a')        942      0       109        97\n",
       "4           4  ('g', ' ')        873      0       103        32"
      ]
     },
     "execution_count": 36,
     "metadata": {},
     "output_type": "execute_result"
    }
   ],
   "source": [
    "raw_data[0:5]  #The features are unicode(Bigram-1) , unicode(Bigram-2), and their frequency."
   ]
  },
  {
   "cell_type": "code",
   "execution_count": 29,
   "metadata": {},
   "outputs": [],
   "source": [
    "raw_data.to_csv('new_frequency.csv')"
   ]
  },
  {
   "cell_type": "code",
   "execution_count": 35,
   "metadata": {},
   "outputs": [
    {
     "name": "stdout",
     "output_type": "stream",
     "text": [
      "[1 0 1 0 0 1 1 1 1 1]\n",
      "[[0.     1.    ]\n",
      " [0.81   0.19  ]\n",
      " [0.07   0.93  ]\n",
      " [0.77   0.23  ]\n",
      " [0.81   0.19  ]\n",
      " [0.08   0.92  ]\n",
      " [0.4245 0.5755]\n",
      " [0.13   0.87  ]\n",
      " [0.19   0.81  ]\n",
      " [0.     1.    ]]\n",
      "Confusion Matrix :\n",
      "[[223  14]\n",
      " [  2 514]]\n",
      "Accuracy Score : 0.9787516600265604\n",
      "Report : \n",
      "             precision    recall  f1-score   support\n",
      "\n",
      "          0       0.99      0.94      0.97       237\n",
      "          1       0.97      1.00      0.98       516\n",
      "\n",
      "avg / total       0.98      0.98      0.98       753\n",
      "\n"
     ]
    },
    {
     "name": "stderr",
     "output_type": "stream",
     "text": [
      "C:\\ProgramData\\Anaconda3\\lib\\site-packages\\ipykernel_launcher.py:23: FutureWarning: Method .as_matrix will be removed in a future version. Use .values instead.\n"
     ]
    }
   ],
   "source": [
    "import numpy as np\n",
    "import pandas as pd\n",
    "from sklearn.model_selection import train_test_split\n",
    "from sklearn.metrics import classification_report\n",
    "from sklearn.ensemble import RandomForestClassifier\n",
    "from sklearn.metrics import confusion_matrix, accuracy_score\n",
    "\n",
    "raw_data = pd.read_csv(\"new_frequency.csv\") \n",
    "features = ['Bigram-1','Bigram-2','Frequency']\n",
    "X = raw_data[features]\n",
    "\n",
    "y = raw_data.Label\n",
    "X_train, X_test, y_train, y_test = train_test_split(X, y, test_size=0.3, random_state=42)\n",
    "clf = RandomForestClassifier(n_estimators=100,n_jobs=2,random_state=0)\n",
    "\n",
    "# Train the Classifier to take the training features and learn how they relate\n",
    "# to the training y (the species)\n",
    "clf.fit(X, y)\n",
    "pred=clf.predict(X_test)\n",
    "print(pred[0:10])\n",
    "proba=clf.predict_proba(X_test)[0:10]\n",
    "print(proba)\n",
    "y_test1=y_test.as_matrix()\n",
    "results = confusion_matrix(y_test1, pred) \n",
    "print('Confusion Matrix :')\n",
    "print(results) \n",
    "print('Accuracy Score :',accuracy_score(y_test1, pred))\n",
    "print ('Report : ')\n",
    "print(classification_report(y_test1, pred))\n"
   ]
  },
  {
   "cell_type": "code",
   "execution_count": 38,
   "metadata": {},
   "outputs": [],
   "source": [
    "import pickle\n",
    "filename = 'msgid.sav'\n",
    "pickle.dump(clf, open(filename, 'wb'))"
   ]
  },
  {
   "cell_type": "markdown",
   "metadata": {},
   "source": [
    "Testing with a sample input"
   ]
  },
  {
   "cell_type": "code",
   "execution_count": 37,
   "metadata": {},
   "outputs": [
    {
     "name": "stdout",
     "output_type": "stream",
     "text": [
      "spam.thegeekempire.net\n"
     ]
    }
   ],
   "source": [
    "str1 = '200503200335.j2K3ZmR06695@spam.thegeekempire.net'\n",
    "str2=str1.replace('>','')\n",
    "x=str2.split('@')\n",
    "\n",
    "y=x[1]\n",
    "print(y)"
   ]
  },
  {
   "cell_type": "code",
   "execution_count": 38,
   "metadata": {},
   "outputs": [],
   "source": [
    "import nltk\n",
    "from nltk.util import ngrams\n",
    "from nltk.collocations import BigramCollocationFinder\n",
    "from nltk.metrics import BigramAssocMeasures\n",
    "import re, string, collections\n",
    "from nltk.util import ngrams # function for making ngrams\n",
    "\n",
    "esBigrams = ngrams(y, 2)\n",
    "    \n",
    "\n",
    "word_fd = nltk.FreqDist(y)\n",
    "bigram_fd = nltk.FreqDist(nltk.bigrams(y))\n",
    "\n",
    "x=bigram_fd.most_common()"
   ]
  },
  {
   "cell_type": "code",
   "execution_count": 39,
   "metadata": {},
   "outputs": [
    {
     "data": {
      "text/plain": [
       "[(('s', 'p'), 1),\n",
       " (('p', 'a'), 1),\n",
       " (('a', 'm'), 1),\n",
       " (('m', '.'), 1),\n",
       " (('.', 't'), 1)]"
      ]
     },
     "execution_count": 39,
     "metadata": {},
     "output_type": "execute_result"
    }
   ],
   "source": [
    "x[0:5]"
   ]
  },
  {
   "cell_type": "code",
   "execution_count": 40,
   "metadata": {},
   "outputs": [],
   "source": [
    "df = pd.DataFrame(x, columns = ['Bigram', 'Frequency']) "
   ]
  },
  {
   "cell_type": "code",
   "execution_count": 44,
   "metadata": {},
   "outputs": [],
   "source": [
    "def unicode1(l):\n",
    "    #l=str(l)\n",
    "    x=ord(l[2])\n",
    "    return x"
   ]
  },
  {
   "cell_type": "code",
   "execution_count": 45,
   "metadata": {},
   "outputs": [],
   "source": [
    "def unicode2(l):\n",
    "    #l=str(l)\n",
    "    x=ord(l[7])\n",
    "    return x"
   ]
  },
  {
   "cell_type": "code",
   "execution_count": 46,
   "metadata": {},
   "outputs": [],
   "source": [
    "df['Bigram-1']=raw_data['Bigram'].apply(unicode1)"
   ]
  },
  {
   "cell_type": "code",
   "execution_count": 47,
   "metadata": {},
   "outputs": [],
   "source": [
    "df['Bigram-2']=raw_data['Bigram'].apply(unicode2)"
   ]
  },
  {
   "cell_type": "code",
   "execution_count": 48,
   "metadata": {},
   "outputs": [
    {
     "data": {
      "text/html": [
       "<div>\n",
       "<style scoped>\n",
       "    .dataframe tbody tr th:only-of-type {\n",
       "        vertical-align: middle;\n",
       "    }\n",
       "\n",
       "    .dataframe tbody tr th {\n",
       "        vertical-align: top;\n",
       "    }\n",
       "\n",
       "    .dataframe thead th {\n",
       "        text-align: right;\n",
       "    }\n",
       "</style>\n",
       "<table border=\"1\" class=\"dataframe\">\n",
       "  <thead>\n",
       "    <tr style=\"text-align: right;\">\n",
       "      <th></th>\n",
       "      <th>Bigram</th>\n",
       "      <th>Frequency</th>\n",
       "      <th>Bigram-1</th>\n",
       "      <th>Bigram-2</th>\n",
       "    </tr>\n",
       "  </thead>\n",
       "  <tbody>\n",
       "    <tr>\n",
       "      <th>0</th>\n",
       "      <td>(s, p)</td>\n",
       "      <td>1</td>\n",
       "      <td>111</td>\n",
       "      <td>114</td>\n",
       "    </tr>\n",
       "    <tr>\n",
       "      <th>1</th>\n",
       "      <td>(p, a)</td>\n",
       "      <td>1</td>\n",
       "      <td>114</td>\n",
       "      <td>103</td>\n",
       "    </tr>\n",
       "    <tr>\n",
       "      <th>2</th>\n",
       "      <td>(a, m)</td>\n",
       "      <td>1</td>\n",
       "      <td>46</td>\n",
       "      <td>111</td>\n",
       "    </tr>\n",
       "    <tr>\n",
       "      <th>3</th>\n",
       "      <td>(m, .)</td>\n",
       "      <td>1</td>\n",
       "      <td>109</td>\n",
       "      <td>97</td>\n",
       "    </tr>\n",
       "    <tr>\n",
       "      <th>4</th>\n",
       "      <td>(., t)</td>\n",
       "      <td>1</td>\n",
       "      <td>103</td>\n",
       "      <td>32</td>\n",
       "    </tr>\n",
       "  </tbody>\n",
       "</table>\n",
       "</div>"
      ],
      "text/plain": [
       "   Bigram  Frequency  Bigram-1  Bigram-2\n",
       "0  (s, p)          1       111       114\n",
       "1  (p, a)          1       114       103\n",
       "2  (a, m)          1        46       111\n",
       "3  (m, .)          1       109        97\n",
       "4  (., t)          1       103        32"
      ]
     },
     "execution_count": 48,
     "metadata": {},
     "output_type": "execute_result"
    }
   ],
   "source": [
    "df[0:5]"
   ]
  },
  {
   "cell_type": "code",
   "execution_count": 168,
   "metadata": {},
   "outputs": [
    {
     "name": "stdout",
     "output_type": "stream",
     "text": [
      "[0 1 0 0 0 1 1 0 0 0 1 1 1 0 0 0 0 1 0 1 1]\n",
      "[[0.     1.    ]\n",
      " [0.81   0.19  ]\n",
      " [0.07   0.93  ]\n",
      " [0.77   0.23  ]\n",
      " [0.81   0.19  ]\n",
      " [0.08   0.92  ]\n",
      " [0.4245 0.5755]\n",
      " [0.13   0.87  ]\n",
      " [0.19   0.81  ]\n",
      " [0.     1.    ]]\n"
     ]
    }
   ],
   "source": [
    "features = ['Bigram-1','Bigram-2','Frequency']\n",
    "X = df[features]\n",
    "pred=clf.predict(X) #For each pair it predicts if phis or not phish.\n",
    "print(pred)\n",
    "proba=clf.predict_proba(X_test)[0:10]\n",
    "print(proba)"
   ]
  },
  {
   "cell_type": "code",
   "execution_count": 169,
   "metadata": {},
   "outputs": [
    {
     "name": "stdout",
     "output_type": "stream",
     "text": [
      "Non-Phishing\n"
     ]
    }
   ],
   "source": [
    "count1=0\n",
    "count0=0\n",
    "for i in range(len(pred)):\n",
    "    if(pred[i] == 1):\n",
    "       count1=count1+1\n",
    "    else:\n",
    "       count0=count0+1\n",
    "if(count1>count0):\n",
    "   print('Phishing')\n",
    "elif(count1<count0):\n",
    "   print('Non-Phishing')\n",
    "else:\n",
    "   print('phishing')"
   ]
  }
 ],
 "metadata": {
  "kernelspec": {
   "display_name": "Python 3",
   "language": "python",
   "name": "python3"
  },
  "language_info": {
   "codemirror_mode": {
    "name": "ipython",
    "version": 3
   },
   "file_extension": ".py",
   "mimetype": "text/x-python",
   "name": "python",
   "nbconvert_exporter": "python",
   "pygments_lexer": "ipython3",
   "version": "3.7.0"
  }
 },
 "nbformat": 4,
 "nbformat_minor": 2
}
