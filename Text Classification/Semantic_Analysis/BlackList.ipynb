{
 "cells": [
  {
   "cell_type": "markdown",
   "metadata": {
    "colab_type": "text",
    "id": "LEk0NxuTczGE"
   },
   "source": [
    "Topic blacklist generation using supervised learning "
   ]
  },
  {
   "cell_type": "code",
   "execution_count": 1,
   "metadata": {
    "colab": {},
    "colab_type": "code",
    "id": "t3FlMecPdvs0"
   },
   "outputs": [],
   "source": [
    "import pandas as pd\n",
    "from sklearn.feature_extraction.text import CountVectorizer\n",
    "from sklearn.naive_bayes import MultinomialNB\n",
    "from sklearn.model_selection import train_test_split\n",
    "from sklearn import metrics"
   ]
  },
  {
   "cell_type": "code",
   "execution_count": 2,
   "metadata": {},
   "outputs": [],
   "source": [
    "import spacy\n",
    "nlp = spacy.load('en_core_web_sm')\n",
    "doc = nlp(open(r\"C:\\Users\\hp\\Downloads\\Phishing-Detection-master\\new_enron.txt\").read())\n",
    "verb_list = []\n",
    "noun_list = []\n",
    "for token in doc:\n",
    "    if (token.dep_ == 'nsubjpass') or (token.dep_ =='dobj'):\n",
    "        x=token.head.text\n",
    "        y=token.text\n",
    "        verb_list.append(x)\n",
    "        noun_list.append(y)\n",
    "        #print(token.text, token.tag_, token.head.text, token.dep_)"
   ]
  },
  {
   "cell_type": "code",
   "execution_count": 35,
   "metadata": {
    "colab": {
     "base_uri": "https://localhost:8080/",
     "height": 204
    },
    "colab_type": "code",
    "id": "oUqp_C8cfn6k",
    "outputId": "1172c344-aef9-4d68-91c9-14cdace426e2"
   },
   "outputs": [
    {
     "data": {
      "text/html": [
       "<div>\n",
       "<style scoped>\n",
       "    .dataframe tbody tr th:only-of-type {\n",
       "        vertical-align: middle;\n",
       "    }\n",
       "\n",
       "    .dataframe tbody tr th {\n",
       "        vertical-align: top;\n",
       "    }\n",
       "\n",
       "    .dataframe thead th {\n",
       "        text-align: right;\n",
       "    }\n",
       "</style>\n",
       "<table border=\"1\" class=\"dataframe\">\n",
       "  <thead>\n",
       "    <tr style=\"text-align: right;\">\n",
       "      <th></th>\n",
       "      <th>Unnamed: 0</th>\n",
       "      <th>verb</th>\n",
       "      <th>noun</th>\n",
       "      <th>label</th>\n",
       "      <th>Unnamed: 4</th>\n",
       "    </tr>\n",
       "  </thead>\n",
       "  <tbody>\n",
       "    <tr>\n",
       "      <th>0</th>\n",
       "      <td>0</td>\n",
       "      <td>Suspended</td>\n",
       "      <td>Account</td>\n",
       "      <td>1</td>\n",
       "      <td>NaN</td>\n",
       "    </tr>\n",
       "    <tr>\n",
       "      <th>1</th>\n",
       "      <td>1</td>\n",
       "      <td>introducing</td>\n",
       "      <td>method</td>\n",
       "      <td>1</td>\n",
       "      <td>NaN</td>\n",
       "    </tr>\n",
       "    <tr>\n",
       "      <th>2</th>\n",
       "      <td>2</td>\n",
       "      <td>subjected</td>\n",
       "      <td>accounts</td>\n",
       "      <td>1</td>\n",
       "      <td>NaN</td>\n",
       "    </tr>\n",
       "    <tr>\n",
       "      <th>3</th>\n",
       "      <td>3</td>\n",
       "      <td>request</td>\n",
       "      <td>copies</td>\n",
       "      <td>1</td>\n",
       "      <td>NaN</td>\n",
       "    </tr>\n",
       "    <tr>\n",
       "      <th>4</th>\n",
       "      <td>4</td>\n",
       "      <td>expired</td>\n",
       "      <td>account</td>\n",
       "      <td>1</td>\n",
       "      <td>NaN</td>\n",
       "    </tr>\n",
       "  </tbody>\n",
       "</table>\n",
       "</div>"
      ],
      "text/plain": [
       "   Unnamed: 0         verb      noun  label  Unnamed: 4\n",
       "0           0    Suspended   Account      1         NaN\n",
       "1           1  introducing    method      1         NaN\n",
       "2           2    subjected  accounts      1         NaN\n",
       "3           3      request    copies      1         NaN\n",
       "4           4      expired   account      1         NaN"
      ]
     },
     "execution_count": 35,
     "metadata": {},
     "output_type": "execute_result"
    }
   ],
   "source": [
    "dataset = pd.read_csv('datasetfinal3.csv')\n",
    "dataset.head()\n",
    "\n"
   ]
  },
  {
   "cell_type": "code",
   "execution_count": 36,
   "metadata": {
    "colab": {
     "base_uri": "https://localhost:8080/",
     "height": 204
    },
    "colab_type": "code",
    "id": "-ANW-V87fu2-",
    "outputId": "09415bab-d7ca-46f1-f2a8-825194f50477"
   },
   "outputs": [
    {
     "data": {
      "text/html": [
       "<div>\n",
       "<style scoped>\n",
       "    .dataframe tbody tr th:only-of-type {\n",
       "        vertical-align: middle;\n",
       "    }\n",
       "\n",
       "    .dataframe tbody tr th {\n",
       "        vertical-align: top;\n",
       "    }\n",
       "\n",
       "    .dataframe thead th {\n",
       "        text-align: right;\n",
       "    }\n",
       "</style>\n",
       "<table border=\"1\" class=\"dataframe\">\n",
       "  <thead>\n",
       "    <tr style=\"text-align: right;\">\n",
       "      <th></th>\n",
       "      <th>combined</th>\n",
       "      <th>label</th>\n",
       "    </tr>\n",
       "  </thead>\n",
       "  <tbody>\n",
       "    <tr>\n",
       "      <th>0</th>\n",
       "      <td>Suspended Account</td>\n",
       "      <td>1</td>\n",
       "    </tr>\n",
       "    <tr>\n",
       "      <th>1</th>\n",
       "      <td>introducing method</td>\n",
       "      <td>1</td>\n",
       "    </tr>\n",
       "    <tr>\n",
       "      <th>2</th>\n",
       "      <td>subjected accounts</td>\n",
       "      <td>1</td>\n",
       "    </tr>\n",
       "    <tr>\n",
       "      <th>3</th>\n",
       "      <td>request copies</td>\n",
       "      <td>1</td>\n",
       "    </tr>\n",
       "    <tr>\n",
       "      <th>4</th>\n",
       "      <td>expired account</td>\n",
       "      <td>1</td>\n",
       "    </tr>\n",
       "  </tbody>\n",
       "</table>\n",
       "</div>"
      ],
      "text/plain": [
       "             combined  label\n",
       "0   Suspended Account      1\n",
       "1  introducing method      1\n",
       "2  subjected accounts      1\n",
       "3      request copies      1\n",
       "4     expired account      1"
      ]
     },
     "execution_count": 36,
     "metadata": {},
     "output_type": "execute_result"
    }
   ],
   "source": [
    "formatted_dataset = pd.DataFrame()\n",
    "formatted_dataset['combined'] = dataset['verb'] +\" \"+dataset['noun']\n",
    "formatted_dataset['label'] = dataset['label']\n",
    "formatted_dataset.head()"
   ]
  },
  {
   "cell_type": "code",
   "execution_count": 37,
   "metadata": {
    "colab": {},
    "colab_type": "code",
    "id": "enPSyKUBgalq"
   },
   "outputs": [
    {
     "name": "stderr",
     "output_type": "stream",
     "text": [
      "C:\\ProgramData\\Anaconda3\\lib\\site-packages\\sklearn\\model_selection\\_split.py:2026: FutureWarning: From version 0.21, test_size will always complement train_size unless both are specified.\n",
      "  FutureWarning)\n"
     ]
    }
   ],
   "source": [
    "X_train,X_test, y_train,y_test = train_test_split(formatted_dataset['combined'],formatted_dataset['label'],\n",
    "                                                    train_size = 0.7,\n",
    "                                                  shuffle=True\n",
    "                                                  \n",
    "                                                  )"
   ]
  },
  {
   "cell_type": "code",
   "execution_count": 38,
   "metadata": {
    "colab": {
     "base_uri": "https://localhost:8080/",
     "height": 233
    },
    "colab_type": "code",
    "id": "optgBkAYgxaN",
    "outputId": "b00d10f6-1797-48af-debd-f6e2be670079"
   },
   "outputs": [
    {
     "name": "stdout",
     "output_type": "stream",
     "text": [
      "2204      reaching agreement\n",
      "385               has access\n",
      "214             leave choice\n",
      "1969    represent difference\n",
      "246                 keep you\n",
      "Name: combined, dtype: object\n",
      "2204    0\n",
      "385     1\n",
      "214     1\n",
      "1969    0\n",
      "246     1\n",
      "Name: label, dtype: int64\n"
     ]
    }
   ],
   "source": [
    "print(X_train.head())\n",
    "print(y_train.head())"
   ]
  },
  {
   "cell_type": "code",
   "execution_count": 39,
   "metadata": {
    "colab": {},
    "colab_type": "code",
    "id": "DXPIXn-Th01p"
   },
   "outputs": [],
   "source": [
    "vectorizer =CountVectorizer()\n",
    "X_train_transformed = vectorizer.fit_transform(X_train)"
   ]
  },
  {
   "cell_type": "code",
   "execution_count": 40,
   "metadata": {
    "colab": {
     "base_uri": "https://localhost:8080/",
     "height": 253
    },
    "colab_type": "code",
    "id": "aqkAAaeVmA07",
    "outputId": "c14bc3d2-64b2-4efe-c35d-5e7fcd75a9dc"
   },
   "outputs": [
    {
     "data": {
      "text/html": [
       "<div>\n",
       "<style scoped>\n",
       "    .dataframe tbody tr th:only-of-type {\n",
       "        vertical-align: middle;\n",
       "    }\n",
       "\n",
       "    .dataframe tbody tr th {\n",
       "        vertical-align: top;\n",
       "    }\n",
       "\n",
       "    .dataframe thead th {\n",
       "        text-align: right;\n",
       "    }\n",
       "</style>\n",
       "<table border=\"1\" class=\"dataframe\">\n",
       "  <thead>\n",
       "    <tr style=\"text-align: right;\">\n",
       "      <th></th>\n",
       "      <th>0ainformation</th>\n",
       "      <th>0ainstructions</th>\n",
       "      <th>0aoneself</th>\n",
       "      <th>48hrs</th>\n",
       "      <th>ability</th>\n",
       "      <th>absent</th>\n",
       "      <th>accept</th>\n",
       "      <th>acceptance</th>\n",
       "      <th>access</th>\n",
       "      <th>accessed</th>\n",
       "      <th>...</th>\n",
       "      <th>window</th>\n",
       "      <th>work</th>\n",
       "      <th>workout</th>\n",
       "      <th>writing</th>\n",
       "      <th>www</th>\n",
       "      <th>wwwebaycom</th>\n",
       "      <th>years</th>\n",
       "      <th>you</th>\n",
       "      <th>your</th>\n",
       "      <th>yourself</th>\n",
       "    </tr>\n",
       "  </thead>\n",
       "  <tbody>\n",
       "    <tr>\n",
       "      <th>0</th>\n",
       "      <td>0</td>\n",
       "      <td>0</td>\n",
       "      <td>0</td>\n",
       "      <td>0</td>\n",
       "      <td>0</td>\n",
       "      <td>0</td>\n",
       "      <td>0</td>\n",
       "      <td>0</td>\n",
       "      <td>0</td>\n",
       "      <td>0</td>\n",
       "      <td>...</td>\n",
       "      <td>0</td>\n",
       "      <td>0</td>\n",
       "      <td>0</td>\n",
       "      <td>0</td>\n",
       "      <td>0</td>\n",
       "      <td>0</td>\n",
       "      <td>0</td>\n",
       "      <td>0</td>\n",
       "      <td>0</td>\n",
       "      <td>0</td>\n",
       "    </tr>\n",
       "    <tr>\n",
       "      <th>1</th>\n",
       "      <td>0</td>\n",
       "      <td>0</td>\n",
       "      <td>0</td>\n",
       "      <td>0</td>\n",
       "      <td>0</td>\n",
       "      <td>0</td>\n",
       "      <td>0</td>\n",
       "      <td>0</td>\n",
       "      <td>1</td>\n",
       "      <td>0</td>\n",
       "      <td>...</td>\n",
       "      <td>0</td>\n",
       "      <td>0</td>\n",
       "      <td>0</td>\n",
       "      <td>0</td>\n",
       "      <td>0</td>\n",
       "      <td>0</td>\n",
       "      <td>0</td>\n",
       "      <td>0</td>\n",
       "      <td>0</td>\n",
       "      <td>0</td>\n",
       "    </tr>\n",
       "    <tr>\n",
       "      <th>2</th>\n",
       "      <td>0</td>\n",
       "      <td>0</td>\n",
       "      <td>0</td>\n",
       "      <td>0</td>\n",
       "      <td>0</td>\n",
       "      <td>0</td>\n",
       "      <td>0</td>\n",
       "      <td>0</td>\n",
       "      <td>0</td>\n",
       "      <td>0</td>\n",
       "      <td>...</td>\n",
       "      <td>0</td>\n",
       "      <td>0</td>\n",
       "      <td>0</td>\n",
       "      <td>0</td>\n",
       "      <td>0</td>\n",
       "      <td>0</td>\n",
       "      <td>0</td>\n",
       "      <td>0</td>\n",
       "      <td>0</td>\n",
       "      <td>0</td>\n",
       "    </tr>\n",
       "    <tr>\n",
       "      <th>3</th>\n",
       "      <td>0</td>\n",
       "      <td>0</td>\n",
       "      <td>0</td>\n",
       "      <td>0</td>\n",
       "      <td>0</td>\n",
       "      <td>0</td>\n",
       "      <td>0</td>\n",
       "      <td>0</td>\n",
       "      <td>0</td>\n",
       "      <td>0</td>\n",
       "      <td>...</td>\n",
       "      <td>0</td>\n",
       "      <td>0</td>\n",
       "      <td>0</td>\n",
       "      <td>0</td>\n",
       "      <td>0</td>\n",
       "      <td>0</td>\n",
       "      <td>0</td>\n",
       "      <td>0</td>\n",
       "      <td>0</td>\n",
       "      <td>0</td>\n",
       "    </tr>\n",
       "    <tr>\n",
       "      <th>4</th>\n",
       "      <td>0</td>\n",
       "      <td>0</td>\n",
       "      <td>0</td>\n",
       "      <td>0</td>\n",
       "      <td>0</td>\n",
       "      <td>0</td>\n",
       "      <td>0</td>\n",
       "      <td>0</td>\n",
       "      <td>0</td>\n",
       "      <td>0</td>\n",
       "      <td>...</td>\n",
       "      <td>0</td>\n",
       "      <td>0</td>\n",
       "      <td>0</td>\n",
       "      <td>0</td>\n",
       "      <td>0</td>\n",
       "      <td>0</td>\n",
       "      <td>0</td>\n",
       "      <td>1</td>\n",
       "      <td>0</td>\n",
       "      <td>0</td>\n",
       "    </tr>\n",
       "  </tbody>\n",
       "</table>\n",
       "<p>5 rows × 1026 columns</p>\n",
       "</div>"
      ],
      "text/plain": [
       "   0ainformation  0ainstructions  0aoneself  48hrs  ability  absent  accept  \\\n",
       "0              0               0          0      0        0       0       0   \n",
       "1              0               0          0      0        0       0       0   \n",
       "2              0               0          0      0        0       0       0   \n",
       "3              0               0          0      0        0       0       0   \n",
       "4              0               0          0      0        0       0       0   \n",
       "\n",
       "   acceptance  access  accessed    ...     window  work  workout  writing  \\\n",
       "0           0       0         0    ...          0     0        0        0   \n",
       "1           0       1         0    ...          0     0        0        0   \n",
       "2           0       0         0    ...          0     0        0        0   \n",
       "3           0       0         0    ...          0     0        0        0   \n",
       "4           0       0         0    ...          0     0        0        0   \n",
       "\n",
       "   www  wwwebaycom  years  you  your  yourself  \n",
       "0    0           0      0    0     0         0  \n",
       "1    0           0      0    0     0         0  \n",
       "2    0           0      0    0     0         0  \n",
       "3    0           0      0    0     0         0  \n",
       "4    0           0      0    1     0         0  \n",
       "\n",
       "[5 rows x 1026 columns]"
      ]
     },
     "execution_count": 40,
     "metadata": {},
     "output_type": "execute_result"
    }
   ],
   "source": [
    "pd.DataFrame(X_train_transformed.toarray(), columns=vectorizer.get_feature_names()).head()"
   ]
  },
  {
   "cell_type": "code",
   "execution_count": 41,
   "metadata": {
    "colab": {
     "base_uri": "https://localhost:8080/",
     "height": 68
    },
    "colab_type": "code",
    "id": "lHd2j0Sip_lb",
    "outputId": "64b26a8f-436b-4043-dd94-35fca414b01b"
   },
   "outputs": [
    {
     "name": "stdout",
     "output_type": "stream",
     "text": [
      "Wall time: 4 ms\n"
     ]
    },
    {
     "data": {
      "text/plain": [
       "MultinomialNB(alpha=1.0, class_prior=None, fit_prior=True)"
      ]
     },
     "execution_count": 41,
     "metadata": {},
     "output_type": "execute_result"
    }
   ],
   "source": [
    "model = MultinomialNB()\n",
    "%time model.fit(X_train_transformed, y_train)\n"
   ]
  },
  {
   "cell_type": "code",
   "execution_count": 86,
   "metadata": {
    "colab": {},
    "colab_type": "code",
    "id": "kO3SblhSYuW2"
   },
   "outputs": [],
   "source": [
    "X_test_transformed = vectorizer.transform(X_test)\n",
    "y_pred_class = model.predict(X_test_transformed)\n",
    "#print(y_pred_class)\n",
    "prediction = model.predict_proba(X_test_transformed)\n",
    "#print(prediction,X_test)\n"
   ]
  },
  {
   "cell_type": "code",
   "execution_count": 87,
   "metadata": {
    "colab": {
     "base_uri": "https://localhost:8080/",
     "height": 255
    },
    "colab_type": "code",
    "id": "e9yYuIHOZ7AJ",
    "outputId": "1e451063-52f2-4497-fca8-1954d04d0bf3"
   },
   "outputs": [
    {
     "name": "stdout",
     "output_type": "stream",
     "text": [
      "Confusion Matrix :\n",
      "[[230  85]\n",
      " [ 14 371]]\n",
      "Accuracy Score : 0.8585714285714285\n",
      "Report : \n",
      "             precision    recall  f1-score   support\n",
      "\n",
      "          0       0.94      0.73      0.82       315\n",
      "          1       0.81      0.96      0.88       385\n",
      "\n",
      "avg / total       0.87      0.86      0.86       700\n",
      "\n"
     ]
    }
   ],
   "source": [
    "from sklearn.metrics import confusion_matrix \n",
    "from sklearn.metrics import accuracy_score \n",
    "from sklearn.metrics import classification_report \n",
    "results = confusion_matrix(y_test,y_pred_class) \n",
    "print('Confusion Matrix :')\n",
    "print(results) \n",
    "print('Accuracy Score :',accuracy_score(y_test, y_pred_class))\n",
    "print('Report : ')\n",
    "print(classification_report(y_test, y_pred_class))\n"
   ]
  },
  {
   "cell_type": "code",
   "execution_count": 88,
   "metadata": {
    "colab": {},
    "colab_type": "code",
    "id": "U7e-enBzrFkM"
   },
   "outputs": [],
   "source": [
    "X_test_transformed = vectorizer.transform(formatted_dataset['combined'])\n",
    "y_pred_class = model.predict(X_test_transformed)\n",
    "#print(y_pred_class)\n",
    "prediction = model.predict_proba(X_test_transformed)\n",
    "#print(prediction,X_test)\n",
    "X_list = list(formatted_dataset['combined'])"
   ]
  },
  {
   "cell_type": "code",
   "execution_count": 89,
   "metadata": {
    "colab": {
     "base_uri": "https://localhost:8080/",
     "height": 34
    },
    "colab_type": "code",
    "id": "FcDotN3j6KGi",
    "outputId": "b33b2424-a812-4b2d-cf3f-b020e8b269be"
   },
   "outputs": [
    {
     "data": {
      "text/plain": [
       "2331"
      ]
     },
     "execution_count": 89,
     "metadata": {},
     "output_type": "execute_result"
    }
   ],
   "source": [
    "#X_list = list(X_test)\n",
    "len(prediction)\n",
    "#len(X_list)"
   ]
  },
  {
   "cell_type": "code",
   "execution_count": 90,
   "metadata": {
    "colab": {
     "base_uri": "https://localhost:8080/",
     "height": 1000
    },
    "colab_type": "code",
    "id": "Rpz6y9W9sAZe",
    "outputId": "a645bbd0-e34e-476b-8359-fb341ff8e47e"
   },
   "outputs": [
    {
     "name": "stdout",
     "output_type": "stream",
     "text": [
      "1198\n"
     ]
    }
   ],
   "source": [
    "#type(prediction[0][1])\n",
    "count=0\n",
    "list_pair1 = []\n",
    "for i in range (0,len(X_list)):\n",
    "    if(prediction[i][1]>=0.8):\n",
    "      count+=1\n",
    "      #print(X_list[i] + \"   \" + str(prediction[i][1]))\n",
    "      list_pair1.append(X_list[i])\n",
    "      \n",
    "print(count)\n",
    "      "
   ]
  },
  {
   "cell_type": "code",
   "execution_count": 100,
   "metadata": {},
   "outputs": [
    {
     "name": "stdout",
     "output_type": "stream",
     "text": [
      "339\n"
     ]
    }
   ],
   "source": [
    "list_pair1 = set(list_pair1)\n",
    "print(len(list_pair1))\n",
    "list_pair2 = list(list_pair1)"
   ]
  },
  {
   "cell_type": "code",
   "execution_count": 101,
   "metadata": {
    "colab": {},
    "colab_type": "code",
    "id": "llb4ofDhEAo-"
   },
   "outputs": [],
   "source": [
    "import pandas as pd\n",
    "df = pd.DataFrame(list_pair2,columns=['blacklist'])\n",
    "df.to_csv('new_blacklist.csv')"
   ]
  },
  {
   "cell_type": "code",
   "execution_count": 17,
   "metadata": {
    "colab": {
     "base_uri": "https://localhost:8080/",
     "height": 136
    },
    "colab_type": "code",
    "id": "Ap2BE14Y4goa",
    "outputId": "0c0aae77-ad62-43e5-93e9-8f4923a742cc"
   },
   "outputs": [
    {
     "name": "stdout",
     "output_type": "stream",
     "text": [
      "[[7.96353432e-04 9.99203647e-01]\n",
      " [6.27463235e-02 9.37253676e-01]\n",
      " [6.66506064e-02 9.33349394e-01]\n",
      " ...\n",
      " [8.65354541e-01 1.34645459e-01]\n",
      " [8.28184130e-01 1.71815870e-01]\n",
      " [9.41408357e-01 5.85916429e-02]]\n"
     ]
    }
   ],
   "source": [
    "print(prediction)"
   ]
  },
  {
   "cell_type": "markdown",
   "metadata": {
    "colab_type": "text",
    "id": "Xp-lvuxZtXej"
   },
   "source": [
    "# Testing "
   ]
  },
  {
   "cell_type": "code",
   "execution_count": 102,
   "metadata": {
    "colab": {},
    "colab_type": "code",
    "id": "8tGfKCVeulCx"
   },
   "outputs": [],
   "source": [
    "import pandas as pd\n",
    "df = pd.read_csv(\"new_blacklist.csv\")"
   ]
  },
  {
   "cell_type": "code",
   "execution_count": 103,
   "metadata": {},
   "outputs": [],
   "source": [
    "xLower = df[\"blacklist\"].map(lambda x: x.lower())"
   ]
  },
  {
   "cell_type": "code",
   "execution_count": 104,
   "metadata": {},
   "outputs": [],
   "source": [
    "list1=xLower.tolist()"
   ]
  },
  {
   "cell_type": "code",
   "execution_count": 105,
   "metadata": {},
   "outputs": [
    {
     "data": {
      "text/plain": [
       "['detected error',\n",
       " 'initiated requests',\n",
       " 'perform banking',\n",
       " 'protect yourself',\n",
       " 'visit policy',\n",
       " 'reveive icon',\n",
       " 'protecting concern',\n",
       " 'activate powerseller',\n",
       " 'agreed number',\n",
       " 'compromised account',\n",
       " 'confirm account',\n",
       " 'featuring networking',\n",
       " 'protecting security',\n",
       " 'verify payment',\n",
       " 'update recordson']"
      ]
     },
     "execution_count": 105,
     "metadata": {},
     "output_type": "execute_result"
    }
   ],
   "source": [
    "list1[0:15]"
   ]
  },
  {
   "cell_type": "code",
   "execution_count": 106,
   "metadata": {},
   "outputs": [],
   "source": [
    "import spacy\n",
    "nlp = spacy.load('en_core_web_sm')\n",
    "doc = nlp(open(r\"C:\\Users\\hp\\Downloads\\0_false.txt\").read())\n",
    "_list = []\n",
    "\n",
    "for token in doc:\n",
    "    if (token.dep_ == 'nsubjpass') or (token.dep_ =='dobj'):\n",
    "        x=token.head.text + \" \" +token.text\n",
    "        _list.append(x)\n",
    "        \n",
    "        #print(token.text, token.tag_, token.head.text, token.dep_)"
   ]
  },
  {
   "cell_type": "code",
   "execution_count": 107,
   "metadata": {},
   "outputs": [
    {
     "data": {
      "text/plain": [
       "['valued member',\n",
       " 'confirm information',\n",
       " 'completed this',\n",
       " 'forced we',\n",
       " 'suspend account',\n",
       " 'used it',\n",
       " 'thank you',\n",
       " 'appreciate support',\n",
       " 'keep ebay',\n",
       " 'keep place',\n",
       " 'thank you',\n",
       " 'constitutes acceptance']"
      ]
     },
     "execution_count": 107,
     "metadata": {},
     "output_type": "execute_result"
    }
   ],
   "source": [
    "[x.lower() for x in _list]"
   ]
  },
  {
   "cell_type": "code",
   "execution_count": 108,
   "metadata": {},
   "outputs": [],
   "source": [
    "check =  any(item in list1 for item in _list)"
   ]
  },
  {
   "cell_type": "code",
   "execution_count": 109,
   "metadata": {},
   "outputs": [
    {
     "name": "stdout",
     "output_type": "stream",
     "text": [
      "['valued member', 'forced we', 'keep place', 'thank you', 'confirm information', 'suspend account', 'constitutes acceptance', 'thank you']\n"
     ]
    }
   ],
   "source": [
    "def intersection(lst1, lst2): \n",
    "    lst3 = [value for value in list1 if value in _list] \n",
    "    return lst3 \n",
    "  \n",
    "print(intersection(list1,_list)) \n"
   ]
  },
  {
   "cell_type": "code",
   "execution_count": 110,
   "metadata": {},
   "outputs": [
    {
     "data": {
      "text/plain": [
       "True"
      ]
     },
     "execution_count": 110,
     "metadata": {},
     "output_type": "execute_result"
    }
   ],
   "source": [
    "check"
   ]
  }
 ],
 "metadata": {
  "colab": {
   "name": "BlackList.ipynb",
   "provenance": [],
   "toc_visible": true
  },
  "kernelspec": {
   "display_name": "Python 3",
   "language": "python",
   "name": "python3"
  },
  "language_info": {
   "codemirror_mode": {
    "name": "ipython",
    "version": 3
   },
   "file_extension": ".py",
   "mimetype": "text/x-python",
   "name": "python",
   "nbconvert_exporter": "python",
   "pygments_lexer": "ipython3",
   "version": "3.7.0"
  }
 },
 "nbformat": 4,
 "nbformat_minor": 1
}
