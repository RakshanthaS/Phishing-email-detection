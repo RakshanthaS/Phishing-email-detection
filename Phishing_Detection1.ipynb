{
 "cells": [
  {
   "cell_type": "code",
   "execution_count": 64,
   "metadata": {},
   "outputs": [],
   "source": [
    "import pandas as pd\n",
    "import string\n",
    "import email\n",
    "import nltk\n",
    "import os\n",
    "import pickle\n",
    "import re\n",
    "from nltk.tokenize import RegexpTokenizer\n",
    "#import sklearn.cross_validation as skcv\n",
    "import warnings\n",
    "warnings.filterwarnings('ignore')\n",
    "import sklearn.feature_extraction.text as skft\n",
    "from sklearn.ensemble import RandomForestClassifier\n",
    "import sklearn.metrics as skmetrics\n",
    "import sklearn.pipeline as skpipe\n",
    "import sklearn.decomposition as skd\n",
    "import sklearn.naive_bayes as sknb\n",
    "from nltk.corpus import stopwords\n",
    "import matplotlib.pyplot as plt\n",
    "import wordcloud\n",
    "from sklearn.model_selection import cross_val_score, cross_val_predict\n",
    "#from sklearn.model_selection import cross_validate\n",
    "from sklearn.model_selection import KFold\n",
    "from sklearn.model_selection import train_test_split, GridSearchCV\n",
    "from sklearn.linear_model import SGDClassifier\n",
    "import numpy as np\n",
    "\n",
    "%matplotlib inline\n",
    "\n",
    "\n",
    "#import email_read_util"
   ]
  },
  {
   "cell_type": "markdown",
   "metadata": {},
   "source": [
    "#### Sources\n",
    "- https://github.com/tianruip1994/Semantic_Analysis\n",
    "- https://scikit-learn.org/stable/tutorial/text_analytics/working_with_text_data.html\n",
    "- SI 370 Lecture Code (Daniel Romero)"
   ]
  },
  {
   "cell_type": "markdown",
   "metadata": {},
   "source": [
    "### Collect phishing emails"
   ]
  },
  {
   "cell_type": "code",
   "execution_count": 2,
   "metadata": {},
   "outputs": [],
   "source": [
    "def create_phish_df(my_dir):\n",
    "    titles = []\n",
    "    contents = []\n",
    "    labels = []\n",
    "\n",
    "    for f in os.listdir(os.path.join('phish',my_dir)):\n",
    "            with open(os.path.join('phish', my_dir, f), 'r') as reader:\n",
    "                try:\n",
    "                    c = reader.read()\n",
    "                except:\n",
    "                    continue\n",
    "                contents.append(c)\n",
    "                titles.append(f)\n",
    "                labels.append('phish')\n",
    "\n",
    "    df = pd.DataFrame({'title': titles, 'content': contents, 'label': 'phish'},\n",
    "                        columns = ['label', 'title', 'content'])\n",
    "    return df"
   ]
  },
  {
   "cell_type": "code",
   "execution_count": 3,
   "metadata": {},
   "outputs": [],
   "source": [
    "phish_email_list = ['20051114', 'phishing0', 'phishing1', 'phishing2', 'phishing3']"
   ]
  },
  {
   "cell_type": "code",
   "execution_count": 4,
   "metadata": {},
   "outputs": [],
   "source": [
    "phish_lst = []\n",
    "for phish_folder in phish_email_list:\n",
    "    phish_lst.append(create_phish_df(phish_folder))"
   ]
  },
  {
   "cell_type": "code",
   "execution_count": 5,
   "metadata": {},
   "outputs": [
    {
     "data": {
      "text/html": [
       "<div>\n",
       "<style scoped>\n",
       "    .dataframe tbody tr th:only-of-type {\n",
       "        vertical-align: middle;\n",
       "    }\n",
       "\n",
       "    .dataframe tbody tr th {\n",
       "        vertical-align: top;\n",
       "    }\n",
       "\n",
       "    .dataframe thead th {\n",
       "        text-align: right;\n",
       "    }\n",
       "</style>\n",
       "<table border=\"1\" class=\"dataframe\">\n",
       "  <thead>\n",
       "    <tr style=\"text-align: right;\">\n",
       "      <th></th>\n",
       "      <th>label</th>\n",
       "      <th>title</th>\n",
       "      <th>content</th>\n",
       "    </tr>\n",
       "  </thead>\n",
       "  <tbody>\n",
       "    <tr>\n",
       "      <th>0</th>\n",
       "      <td>phish</td>\n",
       "      <td>0_False.txt</td>\n",
       "      <td>Subject: TKO Notice: ***Urgent Safeharbor Depa...</td>\n",
       "    </tr>\n",
       "    <tr>\n",
       "      <th>1</th>\n",
       "      <td>phish</td>\n",
       "      <td>100_False.txt</td>\n",
       "      <td>Dear eBay Member:\\n\\n                         ...</td>\n",
       "    </tr>\n",
       "    <tr>\n",
       "      <th>2</th>\n",
       "      <td>phish</td>\n",
       "      <td>101_False.txt</td>\n",
       "      <td>Subject: Account Security Measures\\n \\nSection...</td>\n",
       "    </tr>\n",
       "    <tr>\n",
       "      <th>3</th>\n",
       "      <td>phish</td>\n",
       "      <td>102_False.txt</td>\n",
       "      <td>Subject: =\\nISO-8859-1\\nb\\nQmFuayBTZWN1cml0eSB...</td>\n",
       "    </tr>\n",
       "    <tr>\n",
       "      <th>4</th>\n",
       "      <td>phish</td>\n",
       "      <td>103_False.txt</td>\n",
       "      <td>Subject: SouthTrust Bank: Please Validate Your...</td>\n",
       "    </tr>\n",
       "  </tbody>\n",
       "</table>\n",
       "</div>"
      ],
      "text/plain": [
       "   label          title                                            content\n",
       "0  phish    0_False.txt  Subject: TKO Notice: ***Urgent Safeharbor Depa...\n",
       "1  phish  100_False.txt  Dear eBay Member:\\n\\n                         ...\n",
       "2  phish  101_False.txt  Subject: Account Security Measures\\n \\nSection...\n",
       "3  phish  102_False.txt  Subject: =\\nISO-8859-1\\nb\\nQmFuayBTZWN1cml0eSB...\n",
       "4  phish  103_False.txt  Subject: SouthTrust Bank: Please Validate Your..."
      ]
     },
     "execution_count": 5,
     "metadata": {},
     "output_type": "execute_result"
    }
   ],
   "source": [
    "df_phish = pd.concat(phish_lst)\n",
    "df_phish = df_phish[:5000]\n",
    "df_phish.head()"
   ]
  },
  {
   "cell_type": "code",
   "execution_count": 6,
   "metadata": {},
   "outputs": [
    {
     "data": {
      "text/plain": [
       "(4980, 3)"
      ]
     },
     "execution_count": 6,
     "metadata": {},
     "output_type": "execute_result"
    }
   ],
   "source": [
    "df_phish.shape"
   ]
  },
  {
   "cell_type": "markdown",
   "metadata": {},
   "source": [
    "### Collect non-phishing emails (ham)"
   ]
  },
  {
   "cell_type": "code",
   "execution_count": 7,
   "metadata": {},
   "outputs": [],
   "source": [
    "ham_email_list = ['enron3','enron4', 'enron5', 'enron6']"
   ]
  },
  {
   "cell_type": "code",
   "execution_count": 8,
   "metadata": {},
   "outputs": [],
   "source": [
    "def create_ham_df(my_dir):\n",
    "    titles = []\n",
    "    contents = []\n",
    "    labels = []\n",
    "\n",
    "    for f in os.listdir(os.path.join(my_dir,'ham')):\n",
    "            with open(os.path.join(my_dir, 'ham', f), 'r') as reader:\n",
    "                try:\n",
    "                    c = reader.read()\n",
    "                except:\n",
    "                    continue\n",
    "                contents.append(c)\n",
    "                titles.append(f)\n",
    "                labels.append('ham')\n",
    "\n",
    "    df = pd.DataFrame({'title': titles, 'content': contents, 'label': 'ham'},\n",
    "                        columns = ['label', 'title', 'content'])\n",
    "    return df\n",
    "    \n",
    "    "
   ]
  },
  {
   "cell_type": "code",
   "execution_count": 9,
   "metadata": {},
   "outputs": [],
   "source": [
    "ham_list = []\n",
    "for ham in ham_email_list:\n",
    "    ham_list.append(create_ham_df(ham))"
   ]
  },
  {
   "cell_type": "code",
   "execution_count": 10,
   "metadata": {},
   "outputs": [],
   "source": [
    "df_ham = pd.concat(ham_list)\n",
    "df_ham = df_ham[:5000]"
   ]
  },
  {
   "cell_type": "code",
   "execution_count": 11,
   "metadata": {},
   "outputs": [
    {
     "data": {
      "text/html": [
       "<div>\n",
       "<style scoped>\n",
       "    .dataframe tbody tr th:only-of-type {\n",
       "        vertical-align: middle;\n",
       "    }\n",
       "\n",
       "    .dataframe tbody tr th {\n",
       "        vertical-align: top;\n",
       "    }\n",
       "\n",
       "    .dataframe thead th {\n",
       "        text-align: right;\n",
       "    }\n",
       "</style>\n",
       "<table border=\"1\" class=\"dataframe\">\n",
       "  <thead>\n",
       "    <tr style=\"text-align: right;\">\n",
       "      <th></th>\n",
       "      <th>label</th>\n",
       "      <th>title</th>\n",
       "      <th>content</th>\n",
       "    </tr>\n",
       "  </thead>\n",
       "  <tbody>\n",
       "    <tr>\n",
       "      <th>0</th>\n",
       "      <td>ham</td>\n",
       "      <td>0001.2001-02-07.kitchen.ham.txt</td>\n",
       "      <td>Subject: key hr issues going forward\\na ) year...</td>\n",
       "    </tr>\n",
       "    <tr>\n",
       "      <th>1</th>\n",
       "      <td>ham</td>\n",
       "      <td>0003.2001-02-08.kitchen.ham.txt</td>\n",
       "      <td>Subject: re : key hr issues going forward\\nall...</td>\n",
       "    </tr>\n",
       "    <tr>\n",
       "      <th>2</th>\n",
       "      <td>ham</td>\n",
       "      <td>0005.2001-02-08.kitchen.ham.txt</td>\n",
       "      <td>Subject: epmi files protest of entergy transco...</td>\n",
       "    </tr>\n",
       "    <tr>\n",
       "      <th>3</th>\n",
       "      <td>ham</td>\n",
       "      <td>0006.2001-02-08.kitchen.ham.txt</td>\n",
       "      <td>Subject: california power 2 / 8\\nplease contac...</td>\n",
       "    </tr>\n",
       "    <tr>\n",
       "      <th>4</th>\n",
       "      <td>ham</td>\n",
       "      <td>0007.2001-02-09.kitchen.ham.txt</td>\n",
       "      <td>Subject: california power 2 / 9\\nthe following...</td>\n",
       "    </tr>\n",
       "  </tbody>\n",
       "</table>\n",
       "</div>"
      ],
      "text/plain": [
       "  label                            title  \\\n",
       "0   ham  0001.2001-02-07.kitchen.ham.txt   \n",
       "1   ham  0003.2001-02-08.kitchen.ham.txt   \n",
       "2   ham  0005.2001-02-08.kitchen.ham.txt   \n",
       "3   ham  0006.2001-02-08.kitchen.ham.txt   \n",
       "4   ham  0007.2001-02-09.kitchen.ham.txt   \n",
       "\n",
       "                                             content  \n",
       "0  Subject: key hr issues going forward\\na ) year...  \n",
       "1  Subject: re : key hr issues going forward\\nall...  \n",
       "2  Subject: epmi files protest of entergy transco...  \n",
       "3  Subject: california power 2 / 8\\nplease contac...  \n",
       "4  Subject: california power 2 / 9\\nthe following...  "
      ]
     },
     "execution_count": 11,
     "metadata": {},
     "output_type": "execute_result"
    }
   ],
   "source": [
    "df_ham.head()"
   ]
  },
  {
   "cell_type": "code",
   "execution_count": 12,
   "metadata": {},
   "outputs": [
    {
     "data": {
      "text/plain": [
       "(5000, 3)"
      ]
     },
     "execution_count": 12,
     "metadata": {},
     "output_type": "execute_result"
    }
   ],
   "source": [
    "df_ham.shape"
   ]
  },
  {
   "cell_type": "code",
   "execution_count": 13,
   "metadata": {},
   "outputs": [
    {
     "data": {
      "text/html": [
       "<div>\n",
       "<style scoped>\n",
       "    .dataframe tbody tr th:only-of-type {\n",
       "        vertical-align: middle;\n",
       "    }\n",
       "\n",
       "    .dataframe tbody tr th {\n",
       "        vertical-align: top;\n",
       "    }\n",
       "\n",
       "    .dataframe thead th {\n",
       "        text-align: right;\n",
       "    }\n",
       "</style>\n",
       "<table border=\"1\" class=\"dataframe\">\n",
       "  <thead>\n",
       "    <tr style=\"text-align: right;\">\n",
       "      <th></th>\n",
       "      <th>label</th>\n",
       "      <th>title</th>\n",
       "      <th>content</th>\n",
       "    </tr>\n",
       "  </thead>\n",
       "  <tbody>\n",
       "    <tr>\n",
       "      <th>569</th>\n",
       "      <td>phish</td>\n",
       "      <td>233_True.txt</td>\n",
       "      <td>Subject: Urgent PayPal security notification N...</td>\n",
       "    </tr>\n",
       "    <tr>\n",
       "      <th>1218</th>\n",
       "      <td>ham</td>\n",
       "      <td>1689.2001-07-20.kitchen.ham.txt</td>\n",
       "      <td>Subject: fw : 04 counterparties\\nkevin ' s awa...</td>\n",
       "    </tr>\n",
       "    <tr>\n",
       "      <th>3080</th>\n",
       "      <td>ham</td>\n",
       "      <td>4236.2001-11-26.kitchen.ham.txt</td>\n",
       "      <td>Subject: 8 : 30 am trade counts\\noff to a weak...</td>\n",
       "    </tr>\n",
       "    <tr>\n",
       "      <th>1286</th>\n",
       "      <td>phish</td>\n",
       "      <td>881_False.txt</td>\n",
       "      <td>Subject: You have successfully added a new ema...</td>\n",
       "    </tr>\n",
       "    <tr>\n",
       "      <th>91</th>\n",
       "      <td>phish</td>\n",
       "      <td>182_False.txt</td>\n",
       "      <td>Subject: PayPal Flagged Account Dear PayPal Me...</td>\n",
       "    </tr>\n",
       "    <tr>\n",
       "      <th>2209</th>\n",
       "      <td>ham</td>\n",
       "      <td>3034.2001-10-10.kitchen.ham.txt</td>\n",
       "      <td>Subject: western power update 10 / 10 / 2001\\n...</td>\n",
       "    </tr>\n",
       "    <tr>\n",
       "      <th>977</th>\n",
       "      <td>ham</td>\n",
       "      <td>3920.2001-12-30.williams.ham.txt</td>\n",
       "      <td>Subject: start date : 12 / 30 / 01 ; hourahead...</td>\n",
       "    </tr>\n",
       "    <tr>\n",
       "      <th>2841</th>\n",
       "      <td>ham</td>\n",
       "      <td>3898.2001-11-11.kitchen.ham.txt</td>\n",
       "      <td>Subject: re : communication materials for you\\...</td>\n",
       "    </tr>\n",
       "    <tr>\n",
       "      <th>3144</th>\n",
       "      <td>ham</td>\n",
       "      <td>4324.2001-11-29.kitchen.ham.txt</td>\n",
       "      <td>Subject: good question ( s )\\ni can answer som...</td>\n",
       "    </tr>\n",
       "    <tr>\n",
       "      <th>721</th>\n",
       "      <td>phish</td>\n",
       "      <td>370_False.txt</td>\n",
       "      <td>Subject: Flagged Account PayPal February 2006 ...</td>\n",
       "    </tr>\n",
       "  </tbody>\n",
       "</table>\n",
       "</div>"
      ],
      "text/plain": [
       "      label                             title  \\\n",
       "569   phish                      233_True.txt   \n",
       "1218    ham   1689.2001-07-20.kitchen.ham.txt   \n",
       "3080    ham   4236.2001-11-26.kitchen.ham.txt   \n",
       "1286  phish                     881_False.txt   \n",
       "91    phish                     182_False.txt   \n",
       "2209    ham   3034.2001-10-10.kitchen.ham.txt   \n",
       "977     ham  3920.2001-12-30.williams.ham.txt   \n",
       "2841    ham   3898.2001-11-11.kitchen.ham.txt   \n",
       "3144    ham   4324.2001-11-29.kitchen.ham.txt   \n",
       "721   phish                     370_False.txt   \n",
       "\n",
       "                                                content  \n",
       "569   Subject: Urgent PayPal security notification N...  \n",
       "1218  Subject: fw : 04 counterparties\\nkevin ' s awa...  \n",
       "3080  Subject: 8 : 30 am trade counts\\noff to a weak...  \n",
       "1286  Subject: You have successfully added a new ema...  \n",
       "91    Subject: PayPal Flagged Account Dear PayPal Me...  \n",
       "2209  Subject: western power update 10 / 10 / 2001\\n...  \n",
       "977   Subject: start date : 12 / 30 / 01 ; hourahead...  \n",
       "2841  Subject: re : communication materials for you\\...  \n",
       "3144  Subject: good question ( s )\\ni can answer som...  \n",
       "721   Subject: Flagged Account PayPal February 2006 ...  "
      ]
     },
     "execution_count": 13,
     "metadata": {},
     "output_type": "execute_result"
    }
   ],
   "source": [
    "df_emails = pd.concat([df_ham, df_phish])\n",
    "df_emails.sample(10)"
   ]
  },
  {
   "cell_type": "code",
   "execution_count": 14,
   "metadata": {},
   "outputs": [],
   "source": [
    "def contains_phish_link(df):\n",
    "    #match = re.match(r'True', str(df.title))\n",
    "    if(re.match(r'.*True.txt$', str(df.title))):\n",
    "        return True\n",
    "    return False"
   ]
  },
  {
   "cell_type": "code",
   "execution_count": 15,
   "metadata": {},
   "outputs": [],
   "source": [
    "df_emails['malic'] = df_emails.apply(contains_phish_link, axis = 1)"
   ]
  },
  {
   "cell_type": "code",
   "execution_count": 16,
   "metadata": {},
   "outputs": [
    {
     "data": {
      "text/html": [
       "<div>\n",
       "<style scoped>\n",
       "    .dataframe tbody tr th:only-of-type {\n",
       "        vertical-align: middle;\n",
       "    }\n",
       "\n",
       "    .dataframe tbody tr th {\n",
       "        vertical-align: top;\n",
       "    }\n",
       "\n",
       "    .dataframe thead th {\n",
       "        text-align: right;\n",
       "    }\n",
       "</style>\n",
       "<table border=\"1\" class=\"dataframe\">\n",
       "  <thead>\n",
       "    <tr style=\"text-align: right;\">\n",
       "      <th></th>\n",
       "      <th>label</th>\n",
       "      <th>title</th>\n",
       "      <th>content</th>\n",
       "      <th>malic</th>\n",
       "    </tr>\n",
       "  </thead>\n",
       "  <tbody>\n",
       "    <tr>\n",
       "      <th>0</th>\n",
       "      <td>ham</td>\n",
       "      <td>0001.2001-02-07.kitchen.ham.txt</td>\n",
       "      <td>Subject: key hr issues going forward\\na ) year...</td>\n",
       "      <td>False</td>\n",
       "    </tr>\n",
       "    <tr>\n",
       "      <th>1</th>\n",
       "      <td>ham</td>\n",
       "      <td>0003.2001-02-08.kitchen.ham.txt</td>\n",
       "      <td>Subject: re : key hr issues going forward\\nall...</td>\n",
       "      <td>False</td>\n",
       "    </tr>\n",
       "    <tr>\n",
       "      <th>2</th>\n",
       "      <td>ham</td>\n",
       "      <td>0005.2001-02-08.kitchen.ham.txt</td>\n",
       "      <td>Subject: epmi files protest of entergy transco...</td>\n",
       "      <td>False</td>\n",
       "    </tr>\n",
       "    <tr>\n",
       "      <th>3</th>\n",
       "      <td>ham</td>\n",
       "      <td>0006.2001-02-08.kitchen.ham.txt</td>\n",
       "      <td>Subject: california power 2 / 8\\nplease contac...</td>\n",
       "      <td>False</td>\n",
       "    </tr>\n",
       "    <tr>\n",
       "      <th>4</th>\n",
       "      <td>ham</td>\n",
       "      <td>0007.2001-02-09.kitchen.ham.txt</td>\n",
       "      <td>Subject: california power 2 / 9\\nthe following...</td>\n",
       "      <td>False</td>\n",
       "    </tr>\n",
       "  </tbody>\n",
       "</table>\n",
       "</div>"
      ],
      "text/plain": [
       "  label                            title  \\\n",
       "0   ham  0001.2001-02-07.kitchen.ham.txt   \n",
       "1   ham  0003.2001-02-08.kitchen.ham.txt   \n",
       "2   ham  0005.2001-02-08.kitchen.ham.txt   \n",
       "3   ham  0006.2001-02-08.kitchen.ham.txt   \n",
       "4   ham  0007.2001-02-09.kitchen.ham.txt   \n",
       "\n",
       "                                             content  malic  \n",
       "0  Subject: key hr issues going forward\\na ) year...  False  \n",
       "1  Subject: re : key hr issues going forward\\nall...  False  \n",
       "2  Subject: epmi files protest of entergy transco...  False  \n",
       "3  Subject: california power 2 / 8\\nplease contac...  False  \n",
       "4  Subject: california power 2 / 9\\nthe following...  False  "
      ]
     },
     "execution_count": 16,
     "metadata": {},
     "output_type": "execute_result"
    }
   ],
   "source": [
    "df_emails.head()"
   ]
  },
  {
   "cell_type": "code",
   "execution_count": 17,
   "metadata": {},
   "outputs": [
    {
     "data": {
      "text/plain": [
       "317"
      ]
     },
     "execution_count": 17,
     "metadata": {},
     "output_type": "execute_result"
    }
   ],
   "source": [
    "len(df_emails[df_emails['malic'] == True])"
   ]
  },
  {
   "cell_type": "code",
   "execution_count": 18,
   "metadata": {},
   "outputs": [],
   "source": [
    "df_emails_train, df_emails_test = train_test_split(df_emails, test_size=0.3, random_state=0)"
   ]
  },
  {
   "cell_type": "code",
   "execution_count": 19,
   "metadata": {},
   "outputs": [],
   "source": [
    "#frequency distribution\n",
    "text_all = '\\n'.join(df_emails_train.content).lower()\n",
    "stop_words = set(stopwords.words('english'))\n",
    "tokenizer = RegexpTokenizer(r'\\w+')#nltk.tokenize.wordpunct_tokenize(text_all)\n",
    "tokens_all = tokenizer.tokenize(text_all)\n",
    "tokens_all = [word for word in tokens_all if word not in stop_words and word != 'font' and word != 'subject']#word not in string.punctuation"
   ]
  },
  {
   "cell_type": "code",
   "execution_count": 20,
   "metadata": {},
   "outputs": [],
   "source": [
    "fd = nltk.probability.FreqDist(tokens_all)"
   ]
  },
  {
   "cell_type": "code",
   "execution_count": 21,
   "metadata": {},
   "outputs": [],
   "source": [
    "#fd plot for phishing emails"
   ]
  },
  {
   "cell_type": "code",
   "execution_count": 22,
   "metadata": {},
   "outputs": [],
   "source": [
    "#frequency distribution\n",
    "phish_text_all = '\\n'.join(df_phish.content).lower()\n",
    "phish_tokens_all = tokenizer.tokenize(phish_text_all)\n",
    "phish_tokens_all = [word for word in phish_tokens_all if word not in stop_words and word != 'font' and word != 'subject']"
   ]
  },
  {
   "cell_type": "code",
   "execution_count": 23,
   "metadata": {},
   "outputs": [
    {
     "data": {
      "image/png": "[encoded data removed]",
      "text/plain": [
       "<Figure size 432x288 with 1 Axes>"
      ]
     },
     "metadata": {
      "needs_background": "light"
     },
     "output_type": "display_data"
    }
   ],
   "source": [
    "fd_phish = nltk.probability.FreqDist(phish_tokens_all)\n",
    "fd_phish.plot(20)"
   ]
  },
  {
   "cell_type": "code",
   "execution_count": 24,
   "metadata": {},
   "outputs": [],
   "source": [
    "#Create wordcloud\n",
    "# wc = wordcloud.WordCloud(max_words=1000, stopwords=stop_words,\n",
    "#                          margin=10,random_state=2).generate(' '.join(phish_tokens_all))\n",
    "\n",
    "# fig,ax = plt.subplots(figsize=(12,8))\n",
    "# ax.imshow(wc) #Display an image on the axes."
   ]
  },
  {
   "cell_type": "code",
   "execution_count": 25,
   "metadata": {},
   "outputs": [
    {
     "name": "stdout",
     "output_type": "stream",
     "text": [
      "training set tokens 1599353\n"
     ]
    }
   ],
   "source": [
    "print('training set tokens', len(tokens_all))"
   ]
  },
  {
   "cell_type": "code",
   "execution_count": 26,
   "metadata": {},
   "outputs": [
    {
     "name": "stdout",
     "output_type": "stream",
     "text": [
      "unique training set tokens 69115\n"
     ]
    }
   ],
   "source": [
    "print ('unique training set tokens', len(set(tokens_all)))"
   ]
  },
  {
   "cell_type": "markdown",
   "metadata": {},
   "source": [
    "### Netcraft Code"
   ]
  },
  {
   "cell_type": "code",
   "execution_count": 27,
   "metadata": {},
   "outputs": [],
   "source": [
    "def netcraft_algo(df):\n",
    "    if(df['malic'] == True):\n",
    "        return 'phish'\n",
    "    else:\n",
    "        pass"
   ]
  },
  {
   "cell_type": "code",
   "execution_count": 28,
   "metadata": {},
   "outputs": [],
   "source": [
    "def netcraft_cv(df, model):\n",
    "    precision_scores_weighted = []\n",
    "    precision_scores_micro = []\n",
    "    precision_scores_macro = []\n",
    "    \n",
    "    precision_scores = []\n",
    "    recall_scores = []\n",
    "    \n",
    "    f1_scores_macro = []\n",
    "    f1_scores_micro = []\n",
    "    f1_scores_weighted = []\n",
    "    \n",
    "    recall_scores_macro = []\n",
    "    recall_scores_micro = []\n",
    "    recall_scores_weighted = []\n",
    "    \n",
    "    \n",
    "    accuracy_scores = []\n",
    "    kf = KFold(n_splits = 5, shuffle = True, random_state = 1)\n",
    "    fold = 0\n",
    "    for train_ind, test_ind in kf.split(df):\n",
    "\n",
    "        df_emails_train = df.iloc[train_ind]\n",
    "        df_emails_test =  df.iloc[test_ind]\n",
    "        \n",
    "        model.fit(df_emails_train.content, df_emails_train.label)\n",
    "        model_test_predicted = model.predict(df_emails_test.content)\n",
    "\n",
    "        df_emails_test['predicted_label'] = df_emails_test.apply(netcraft_algo, axis = 1)\n",
    "        netcraft_test_predicted = [x for x in df_emails_test['predicted_label']]\n",
    "        test_predicted = []\n",
    "        for a, b in zip(netcraft_test_predicted, model_test_predicted):\n",
    "            if((a == 'phish') and (b != 'phish')):\n",
    "                test_predicted.append(a)\n",
    "            else:\n",
    "                test_predicted.append(b)\n",
    "        print('fold', fold)\n",
    "        print (skmetrics.classification_report(df_emails_test.label, test_predicted))\n",
    "        accuracy_scores.append(skmetrics.accuracy_score(df_emails_test.label, test_predicted))\n",
    "        \n",
    "        f1_scores_macro.append(skmetrics.f1_score(df_emails_test.label, test_predicted, average = 'macro'))\n",
    "        f1_scores_micro.append(skmetrics.f1_score(df_emails_test.label, test_predicted, average = 'micro'))\n",
    "        f1_scores_weighted.append(skmetrics.f1_score(df_emails_test.label, test_predicted, average = 'weighted'))\n",
    "        \n",
    "        precision_scores.append(skmetrics.precision_score(df_emails_test.label, test_predicted, pos_label = 'phish'))\n",
    "        \n",
    "        precision_scores_macro.append(skmetrics.precision_score(df_emails_test.label, test_predicted, average = 'macro'))\n",
    "        precision_scores_micro.append(skmetrics.precision_score(df_emails_test.label, test_predicted, average = 'micro'))\n",
    "        precision_scores_weighted.append(skmetrics.precision_score(df_emails_test.label, test_predicted, average = 'weighted'))\n",
    "        \n",
    "        recall_scores.append(skmetrics.recall_score(df_emails_test.label, test_predicted, pos_label = 'phish'))\n",
    "        \n",
    "        recall_scores_macro.append(skmetrics.recall_score(df_emails_test.label, test_predicted, average = 'macro'))\n",
    "        recall_scores_micro.append(skmetrics.recall_score(df_emails_test.label, test_predicted, average = 'micro'))\n",
    "        recall_scores_weighted.append(skmetrics.recall_score(df_emails_test.label, test_predicted, average = 'weighted'))\n",
    "        \n",
    "        \n",
    "        fold += 1\n",
    "    \n",
    "    print('F1 Micro:', np.mean(f1_scores_micro))\n",
    "    print('F1 Macro:', np.mean(f1_scores_macro))\n",
    "    print('F1 Weighted:', np.mean(f1_scores_weighted))\n",
    "    print()\n",
    "    print('Precision Micro:', np.mean(precision_scores_micro))\n",
    "    print('Precision Macro:', np.mean(precision_scores_macro))\n",
    "    print('Preicision Weighted:', np.mean(precision_scores_weighted))\n",
    "    print()\n",
    "    print('Recall Micro:', np.mean(recall_scores_micro))\n",
    "    print('Recall Macro:', np.mean(recall_scores_macro))\n",
    "    print('Recall Weighted:', np.mean(recall_scores_weighted))\n",
    "    print()\n",
    "    print('avg accuracy:', round(np.mean(accuracy_scores), 2))\n",
    "    print('avg phish precision:', round(np.mean(precision_scores), 2))\n",
    "    print('avg phish recall:', round(np.mean(recall_scores), 2))"
   ]
  },
  {
   "cell_type": "markdown",
   "metadata": {},
   "source": [
    "### Baseline : Random Forest"
   ]
  },
  {
   "cell_type": "code",
   "execution_count": 29,
   "metadata": {},
   "outputs": [
    {
     "data": {
      "text/plain": [
       "Pipeline(memory=None,\n",
       "     steps=[('vect', CountVectorizer(analyzer='word', binary=False, decode_error='strict',\n",
       "        dtype=<class 'numpy.int64'>, encoding='utf-8', input='content',\n",
       "        lowercase=True, max_df=0.7, max_features=None, min_df=1,\n",
       "        ngram_range=(1, 1), preprocessor=None, stop_words=None,\n",
       "        strip...n_jobs=1,\n",
       "            oob_score=False, random_state=None, verbose=0,\n",
       "            warm_start=False))])"
      ]
     },
     "execution_count": 29,
     "metadata": {},
     "output_type": "execute_result"
    }
   ],
   "source": [
    "rf_pipeline = skpipe.Pipeline(\n",
    "    steps = [('vect', skft.CountVectorizer(max_df=0.7)),\n",
    "     ('tfidf', skft.TfidfTransformer()),\n",
    "     ('clf', RandomForestClassifier(max_depth=5, n_estimators=100))])\n",
    "\n",
    "\n",
    "rf_pipeline.fit(df_emails_train.content, df_emails_train.label)"
   ]
  },
  {
   "cell_type": "code",
   "execution_count": 30,
   "metadata": {},
   "outputs": [],
   "source": [
    "test_predicted = rf_pipeline.predict(df_emails_test.content)"
   ]
  },
  {
   "cell_type": "code",
   "execution_count": 31,
   "metadata": {},
   "outputs": [
    {
     "name": "stdout",
     "output_type": "stream",
     "text": [
      "             precision    recall  f1-score   support\n",
      "\n",
      "        ham       0.84      1.00      0.92      1485\n",
      "      phish       1.00      0.82      0.90      1509\n",
      "\n",
      "avg / total       0.92      0.91      0.91      2994\n",
      "\n"
     ]
    }
   ],
   "source": [
    "print (skmetrics.classification_report(df_emails_test.label, test_predicted))"
   ]
  },
  {
   "cell_type": "code",
   "execution_count": 32,
   "metadata": {},
   "outputs": [
    {
     "name": "stdout",
     "output_type": "stream",
     "text": [
      "Accuracy: 0.908817635270541\n"
     ]
    }
   ],
   "source": [
    "print ('Accuracy:', skmetrics.accuracy_score(df_emails_test.label, test_predicted))"
   ]
  },
  {
   "cell_type": "code",
   "execution_count": 33,
   "metadata": {},
   "outputs": [],
   "source": [
    "kfold = KFold(n_splits=5, random_state=0, shuffle = True)"
   ]
  },
  {
   "cell_type": "code",
   "execution_count": 34,
   "metadata": {},
   "outputs": [],
   "source": [
    "rf_scores = cross_val_predict(rf_pipeline, df_emails.content, df_emails.label, cv=kfold)"
   ]
  },
  {
   "cell_type": "code",
   "execution_count": 35,
   "metadata": {},
   "outputs": [
    {
     "name": "stdout",
     "output_type": "stream",
     "text": [
      "             precision    recall  f1-score   support\n",
      "\n",
      "        ham       0.86      1.00      0.92      5000\n",
      "      phish       1.00      0.84      0.91      4980\n",
      "\n",
      "avg / total       0.93      0.92      0.92      9980\n",
      "\n"
     ]
    }
   ],
   "source": [
    "print(skmetrics.classification_report(df_emails.label, rf_scores))"
   ]
  },
  {
   "cell_type": "code",
   "execution_count": 36,
   "metadata": {},
   "outputs": [
    {
     "name": "stdout",
     "output_type": "stream",
     "text": [
      "fold 0\n",
      "             precision    recall  f1-score   support\n",
      "\n",
      "        ham       0.86      1.00      0.92       996\n",
      "      phish       1.00      0.84      0.91      1000\n",
      "\n",
      "avg / total       0.93      0.92      0.92      1996\n",
      "\n",
      "fold 1\n",
      "             precision    recall  f1-score   support\n",
      "\n",
      "        ham       0.87      1.00      0.93      1010\n",
      "      phish       1.00      0.85      0.92       986\n",
      "\n",
      "avg / total       0.93      0.92      0.92      1996\n",
      "\n",
      "fold 2\n",
      "             precision    recall  f1-score   support\n",
      "\n",
      "        ham       0.86      1.00      0.93       994\n",
      "      phish       1.00      0.84      0.92      1002\n",
      "\n",
      "avg / total       0.93      0.92      0.92      1996\n",
      "\n",
      "fold 3\n",
      "             precision    recall  f1-score   support\n",
      "\n",
      "        ham       0.87      1.00      0.93      1001\n",
      "      phish       1.00      0.85      0.92       995\n",
      "\n",
      "avg / total       0.93      0.92      0.92      1996\n",
      "\n",
      "fold 4\n",
      "             precision    recall  f1-score   support\n",
      "\n",
      "        ham       0.85      1.00      0.92       999\n",
      "      phish       1.00      0.83      0.90       997\n",
      "\n",
      "avg / total       0.92      0.91      0.91      1996\n",
      "\n",
      "F1 Micro: 0.9198396793587176\n",
      "F1 Macro: 0.9193196467835048\n",
      "F1 Weighted: 0.9193331099121618\n",
      "\n",
      "Precision Micro: 0.9198396793587176\n",
      "Precision Macro: 0.930434012986639\n",
      "Preicision Weighted: 0.9303130045337781\n",
      "\n",
      "Recall Micro: 0.9198396793587176\n",
      "Recall Macro: 0.9196950134120927\n",
      "Recall Weighted: 0.9198396793587176\n",
      "\n",
      "avg accuracy: 0.92\n",
      "avg phish precision: 1.0\n",
      "avg phish recall: 0.84\n"
     ]
    }
   ],
   "source": [
    "#Random Forest + Netcraft\n",
    "netcraft_cv(df_emails, rf_pipeline)"
   ]
  },
  {
   "cell_type": "markdown",
   "metadata": {},
   "source": [
    "### Multinomial Naive Bayes"
   ]
  },
  {
   "cell_type": "code",
   "execution_count": 37,
   "metadata": {},
   "outputs": [],
   "source": [
    "pipeline = skpipe.Pipeline(\n",
    "    steps = [('vect', skft.CountVectorizer(max_df=0.7)),\n",
    "     ('tfidf', skft.TfidfTransformer()),\n",
    "     ('clf', sknb.MultinomialNB())])\n"
   ]
  },
  {
   "cell_type": "code",
   "execution_count": 38,
   "metadata": {},
   "outputs": [
    {
     "data": {
      "text/plain": [
       "Pipeline(memory=None,\n",
       "     steps=[('vect', CountVectorizer(analyzer='word', binary=False, decode_error='strict',\n",
       "        dtype=<class 'numpy.int64'>, encoding='utf-8', input='content',\n",
       "        lowercase=True, max_df=0.7, max_features=None, min_df=1,\n",
       "        ngram_range=(1, 1), preprocessor=None, stop_words=None,\n",
       "        strip...inear_tf=False, use_idf=True)), ('clf', MultinomialNB(alpha=1.0, class_prior=None, fit_prior=True))])"
      ]
     },
     "execution_count": 38,
     "metadata": {},
     "output_type": "execute_result"
    }
   ],
   "source": [
    "df_emails_train, df_emails_test = train_test_split(df_emails, test_size=0.3, random_state=0)\n",
    "pipeline.fit(df_emails_train.content, df_emails_train.label)"
   ]
  },
  {
   "cell_type": "code",
   "execution_count": 39,
   "metadata": {},
   "outputs": [],
   "source": [
    "nb_test_predicted = pipeline.predict(df_emails_test.content)"
   ]
  },
  {
   "cell_type": "code",
   "execution_count": 40,
   "metadata": {},
   "outputs": [
    {
     "data": {
      "text/html": [
       "<div>\n",
       "<style scoped>\n",
       "    .dataframe tbody tr th:only-of-type {\n",
       "        vertical-align: middle;\n",
       "    }\n",
       "\n",
       "    .dataframe tbody tr th {\n",
       "        vertical-align: top;\n",
       "    }\n",
       "\n",
       "    .dataframe thead th {\n",
       "        text-align: right;\n",
       "    }\n",
       "</style>\n",
       "<table border=\"1\" class=\"dataframe\">\n",
       "  <thead>\n",
       "    <tr style=\"text-align: right;\">\n",
       "      <th></th>\n",
       "      <th>label</th>\n",
       "      <th>title</th>\n",
       "      <th>content</th>\n",
       "      <th>malic</th>\n",
       "    </tr>\n",
       "  </thead>\n",
       "  <tbody>\n",
       "    <tr>\n",
       "      <th>601</th>\n",
       "      <td>phish</td>\n",
       "      <td>262_False.txt</td>\n",
       "      <td>Subject: eBay Member: marylou2804 SectionTitle...</td>\n",
       "      <td>False</td>\n",
       "    </tr>\n",
       "    <tr>\n",
       "      <th>1840</th>\n",
       "      <td>phish</td>\n",
       "      <td>625_False.txt</td>\n",
       "      <td>Subject: customer notification: details confir...</td>\n",
       "      <td>False</td>\n",
       "    </tr>\n",
       "    <tr>\n",
       "      <th>356</th>\n",
       "      <td>phish</td>\n",
       "      <td>1328_False.txt</td>\n",
       "      <td>Subject: Notification of Limited Account Acces...</td>\n",
       "      <td>False</td>\n",
       "    </tr>\n",
       "    <tr>\n",
       "      <th>1861</th>\n",
       "      <td>ham</td>\n",
       "      <td>2568.2001-09-18.kitchen.ham.txt</td>\n",
       "      <td>Subject: gtv weekly project status report\\nple...</td>\n",
       "      <td>False</td>\n",
       "    </tr>\n",
       "    <tr>\n",
       "      <th>1509</th>\n",
       "      <td>ham</td>\n",
       "      <td>2080.2001-08-21.kitchen.ham.txt</td>\n",
       "      <td>Subject: thanks for the offsite\\nthank you for...</td>\n",
       "      <td>False</td>\n",
       "    </tr>\n",
       "  </tbody>\n",
       "</table>\n",
       "</div>"
      ],
      "text/plain": [
       "      label                            title  \\\n",
       "601   phish                    262_False.txt   \n",
       "1840  phish                    625_False.txt   \n",
       "356   phish                   1328_False.txt   \n",
       "1861    ham  2568.2001-09-18.kitchen.ham.txt   \n",
       "1509    ham  2080.2001-08-21.kitchen.ham.txt   \n",
       "\n",
       "                                                content  malic  \n",
       "601   Subject: eBay Member: marylou2804 SectionTitle...  False  \n",
       "1840  Subject: customer notification: details confir...  False  \n",
       "356   Subject: Notification of Limited Account Acces...  False  \n",
       "1861  Subject: gtv weekly project status report\\nple...  False  \n",
       "1509  Subject: thanks for the offsite\\nthank you for...  False  "
      ]
     },
     "execution_count": 40,
     "metadata": {},
     "output_type": "execute_result"
    }
   ],
   "source": [
    "df_emails_test.head()"
   ]
  },
  {
   "cell_type": "code",
   "execution_count": 41,
   "metadata": {},
   "outputs": [],
   "source": [
    "df_emails_test['predicted_label'] = df_emails_test.apply(netcraft_algo, axis = 1)"
   ]
  },
  {
   "cell_type": "code",
   "execution_count": 42,
   "metadata": {},
   "outputs": [
    {
     "data": {
      "text/html": [
       "<div>\n",
       "<style scoped>\n",
       "    .dataframe tbody tr th:only-of-type {\n",
       "        vertical-align: middle;\n",
       "    }\n",
       "\n",
       "    .dataframe tbody tr th {\n",
       "        vertical-align: top;\n",
       "    }\n",
       "\n",
       "    .dataframe thead th {\n",
       "        text-align: right;\n",
       "    }\n",
       "</style>\n",
       "<table border=\"1\" class=\"dataframe\">\n",
       "  <thead>\n",
       "    <tr style=\"text-align: right;\">\n",
       "      <th></th>\n",
       "      <th>label</th>\n",
       "      <th>title</th>\n",
       "      <th>content</th>\n",
       "      <th>malic</th>\n",
       "      <th>predicted_label</th>\n",
       "    </tr>\n",
       "  </thead>\n",
       "  <tbody>\n",
       "    <tr>\n",
       "      <th>601</th>\n",
       "      <td>phish</td>\n",
       "      <td>262_False.txt</td>\n",
       "      <td>Subject: eBay Member: marylou2804 SectionTitle...</td>\n",
       "      <td>False</td>\n",
       "      <td>None</td>\n",
       "    </tr>\n",
       "    <tr>\n",
       "      <th>1840</th>\n",
       "      <td>phish</td>\n",
       "      <td>625_False.txt</td>\n",
       "      <td>Subject: customer notification: details confir...</td>\n",
       "      <td>False</td>\n",
       "      <td>None</td>\n",
       "    </tr>\n",
       "    <tr>\n",
       "      <th>356</th>\n",
       "      <td>phish</td>\n",
       "      <td>1328_False.txt</td>\n",
       "      <td>Subject: Notification of Limited Account Acces...</td>\n",
       "      <td>False</td>\n",
       "      <td>None</td>\n",
       "    </tr>\n",
       "    <tr>\n",
       "      <th>1861</th>\n",
       "      <td>ham</td>\n",
       "      <td>2568.2001-09-18.kitchen.ham.txt</td>\n",
       "      <td>Subject: gtv weekly project status report\\nple...</td>\n",
       "      <td>False</td>\n",
       "      <td>None</td>\n",
       "    </tr>\n",
       "    <tr>\n",
       "      <th>1509</th>\n",
       "      <td>ham</td>\n",
       "      <td>2080.2001-08-21.kitchen.ham.txt</td>\n",
       "      <td>Subject: thanks for the offsite\\nthank you for...</td>\n",
       "      <td>False</td>\n",
       "      <td>None</td>\n",
       "    </tr>\n",
       "  </tbody>\n",
       "</table>\n",
       "</div>"
      ],
      "text/plain": [
       "      label                            title  \\\n",
       "601   phish                    262_False.txt   \n",
       "1840  phish                    625_False.txt   \n",
       "356   phish                   1328_False.txt   \n",
       "1861    ham  2568.2001-09-18.kitchen.ham.txt   \n",
       "1509    ham  2080.2001-08-21.kitchen.ham.txt   \n",
       "\n",
       "                                                content  malic predicted_label  \n",
       "601   Subject: eBay Member: marylou2804 SectionTitle...  False            None  \n",
       "1840  Subject: customer notification: details confir...  False            None  \n",
       "356   Subject: Notification of Limited Account Acces...  False            None  \n",
       "1861  Subject: gtv weekly project status report\\nple...  False            None  \n",
       "1509  Subject: thanks for the offsite\\nthank you for...  False            None  "
      ]
     },
     "execution_count": 42,
     "metadata": {},
     "output_type": "execute_result"
    }
   ],
   "source": [
    "df_emails_test.head()"
   ]
  },
  {
   "cell_type": "code",
   "execution_count": 43,
   "metadata": {},
   "outputs": [],
   "source": [
    "netcraft_test_predicted = [x for x in df_emails_test['predicted_label']]"
   ]
  },
  {
   "cell_type": "code",
   "execution_count": 44,
   "metadata": {},
   "outputs": [],
   "source": [
    "test_predicted = []\n",
    "for a, b in zip(netcraft_test_predicted, nb_test_predicted):\n",
    "    #print(a, b)\n",
    "    if((a == 'phish') and (b != 'phish')):\n",
    "        test_predicted.append(a)\n",
    "    else:\n",
    "        test_predicted.append(b)"
   ]
  },
  {
   "cell_type": "code",
   "execution_count": 45,
   "metadata": {},
   "outputs": [],
   "source": [
    "df_emails_test['predicted_label'] = test_predicted"
   ]
  },
  {
   "cell_type": "code",
   "execution_count": 46,
   "metadata": {},
   "outputs": [
    {
     "data": {
      "text/html": [
       "<div>\n",
       "<style scoped>\n",
       "    .dataframe tbody tr th:only-of-type {\n",
       "        vertical-align: middle;\n",
       "    }\n",
       "\n",
       "    .dataframe tbody tr th {\n",
       "        vertical-align: top;\n",
       "    }\n",
       "\n",
       "    .dataframe thead th {\n",
       "        text-align: right;\n",
       "    }\n",
       "</style>\n",
       "<table border=\"1\" class=\"dataframe\">\n",
       "  <thead>\n",
       "    <tr style=\"text-align: right;\">\n",
       "      <th></th>\n",
       "      <th>label</th>\n",
       "      <th>title</th>\n",
       "      <th>content</th>\n",
       "      <th>malic</th>\n",
       "      <th>predicted_label</th>\n",
       "    </tr>\n",
       "  </thead>\n",
       "  <tbody>\n",
       "    <tr>\n",
       "      <th>601</th>\n",
       "      <td>phish</td>\n",
       "      <td>262_False.txt</td>\n",
       "      <td>Subject: eBay Member: marylou2804 SectionTitle...</td>\n",
       "      <td>False</td>\n",
       "      <td>phish</td>\n",
       "    </tr>\n",
       "    <tr>\n",
       "      <th>1840</th>\n",
       "      <td>phish</td>\n",
       "      <td>625_False.txt</td>\n",
       "      <td>Subject: customer notification: details confir...</td>\n",
       "      <td>False</td>\n",
       "      <td>phish</td>\n",
       "    </tr>\n",
       "    <tr>\n",
       "      <th>356</th>\n",
       "      <td>phish</td>\n",
       "      <td>1328_False.txt</td>\n",
       "      <td>Subject: Notification of Limited Account Acces...</td>\n",
       "      <td>False</td>\n",
       "      <td>phish</td>\n",
       "    </tr>\n",
       "    <tr>\n",
       "      <th>1861</th>\n",
       "      <td>ham</td>\n",
       "      <td>2568.2001-09-18.kitchen.ham.txt</td>\n",
       "      <td>Subject: gtv weekly project status report\\nple...</td>\n",
       "      <td>False</td>\n",
       "      <td>ham</td>\n",
       "    </tr>\n",
       "    <tr>\n",
       "      <th>1509</th>\n",
       "      <td>ham</td>\n",
       "      <td>2080.2001-08-21.kitchen.ham.txt</td>\n",
       "      <td>Subject: thanks for the offsite\\nthank you for...</td>\n",
       "      <td>False</td>\n",
       "      <td>ham</td>\n",
       "    </tr>\n",
       "  </tbody>\n",
       "</table>\n",
       "</div>"
      ],
      "text/plain": [
       "      label                            title  \\\n",
       "601   phish                    262_False.txt   \n",
       "1840  phish                    625_False.txt   \n",
       "356   phish                   1328_False.txt   \n",
       "1861    ham  2568.2001-09-18.kitchen.ham.txt   \n",
       "1509    ham  2080.2001-08-21.kitchen.ham.txt   \n",
       "\n",
       "                                                content  malic predicted_label  \n",
       "601   Subject: eBay Member: marylou2804 SectionTitle...  False           phish  \n",
       "1840  Subject: customer notification: details confir...  False           phish  \n",
       "356   Subject: Notification of Limited Account Acces...  False           phish  \n",
       "1861  Subject: gtv weekly project status report\\nple...  False             ham  \n",
       "1509  Subject: thanks for the offsite\\nthank you for...  False             ham  "
      ]
     },
     "execution_count": 46,
     "metadata": {},
     "output_type": "execute_result"
    }
   ],
   "source": [
    "df_emails_test.head()"
   ]
  },
  {
   "cell_type": "code",
   "execution_count": 47,
   "metadata": {},
   "outputs": [
    {
     "name": "stdout",
     "output_type": "stream",
     "text": [
      "Accuracy: 0.9609218436873748\n"
     ]
    }
   ],
   "source": [
    "print ('Accuracy:', skmetrics.accuracy_score(df_emails_test.label, test_predicted))"
   ]
  },
  {
   "cell_type": "code",
   "execution_count": 48,
   "metadata": {},
   "outputs": [
    {
     "name": "stdout",
     "output_type": "stream",
     "text": [
      "             precision    recall  f1-score   support\n",
      "\n",
      "        ham       0.93      1.00      0.96      1485\n",
      "      phish       1.00      0.92      0.96      1509\n",
      "\n",
      "avg / total       0.96      0.96      0.96      2994\n",
      "\n"
     ]
    }
   ],
   "source": [
    "print (skmetrics.classification_report(df_emails_test.label, test_predicted))"
   ]
  },
  {
   "cell_type": "code",
   "execution_count": 49,
   "metadata": {},
   "outputs": [
    {
     "name": "stdout",
     "output_type": "stream",
     "text": [
      "KFold(n_splits=5, random_state=0, shuffle=True)\n"
     ]
    }
   ],
   "source": [
    "print(kfold)"
   ]
  },
  {
   "cell_type": "code",
   "execution_count": 50,
   "metadata": {},
   "outputs": [],
   "source": [
    "nb_scores = cross_val_predict(pipeline, df_emails.content, df_emails.label, cv=kfold)"
   ]
  },
  {
   "cell_type": "code",
   "execution_count": 51,
   "metadata": {},
   "outputs": [
    {
     "name": "stdout",
     "output_type": "stream",
     "text": [
      "             precision    recall  f1-score   support\n",
      "\n",
      "        ham       0.94      1.00      0.97      5000\n",
      "      phish       1.00      0.94      0.97      4980\n",
      "\n",
      "avg / total       0.97      0.97      0.97      9980\n",
      "\n"
     ]
    }
   ],
   "source": [
    "#cross val without netcraft\n",
    "print(skmetrics.classification_report(df_emails.label, nb_scores))"
   ]
  },
  {
   "cell_type": "code",
   "execution_count": 52,
   "metadata": {},
   "outputs": [
    {
     "name": "stdout",
     "output_type": "stream",
     "text": [
      "fold 0\n",
      "             precision    recall  f1-score   support\n",
      "\n",
      "        ham       0.94      1.00      0.97       996\n",
      "      phish       1.00      0.93      0.96      1000\n",
      "\n",
      "avg / total       0.97      0.96      0.96      1996\n",
      "\n",
      "fold 1\n",
      "             precision    recall  f1-score   support\n",
      "\n",
      "        ham       0.96      1.00      0.98      1010\n",
      "      phish       1.00      0.95      0.97       986\n",
      "\n",
      "avg / total       0.98      0.97      0.97      1996\n",
      "\n",
      "fold 2\n",
      "             precision    recall  f1-score   support\n",
      "\n",
      "        ham       0.95      1.00      0.97       994\n",
      "      phish       1.00      0.94      0.97      1002\n",
      "\n",
      "avg / total       0.97      0.97      0.97      1996\n",
      "\n",
      "fold 3\n",
      "             precision    recall  f1-score   support\n",
      "\n",
      "        ham       0.94      1.00      0.97      1001\n",
      "      phish       1.00      0.93      0.96       995\n",
      "\n",
      "avg / total       0.97      0.96      0.96      1996\n",
      "\n",
      "fold 4\n",
      "             precision    recall  f1-score   support\n",
      "\n",
      "        ham       0.93      1.00      0.96       999\n",
      "      phish       1.00      0.93      0.96       997\n",
      "\n",
      "avg / total       0.96      0.96      0.96      1996\n",
      "\n",
      "F1 Micro: 0.9670340681362726\n",
      "F1 Macro: 0.9670002588059999\n",
      "F1 Weighted: 0.9670023893213905\n",
      "\n",
      "Precision Micro: 0.9670340681362726\n",
      "Precision Macro: 0.9687263453517476\n",
      "Preicision Weighted: 0.968685829377638\n",
      "\n",
      "Recall Micro: 0.9670340681362726\n",
      "Recall Macro: 0.9669894521342524\n",
      "Recall Weighted: 0.9670340681362726\n",
      "\n",
      "avg accuracy: 0.97\n",
      "avg phish precision: 1.0\n",
      "avg phish recall: 0.94\n"
     ]
    }
   ],
   "source": [
    "#MNB + Netcraft\n",
    "netcraft_cv(df_emails, pipeline)"
   ]
  },
  {
   "cell_type": "markdown",
   "metadata": {},
   "source": [
    "### Support Vector Machine"
   ]
  },
  {
   "cell_type": "code",
   "execution_count": 53,
   "metadata": {},
   "outputs": [],
   "source": [
    "svm_pipeline = skpipe.Pipeline(\n",
    "    steps = [('vect', skft.CountVectorizer(max_df=0.7, ngram_range = (1,1))),\n",
    "     ('tfidf', skft.TfidfTransformer(use_idf = True)),\n",
    "     ('clf', SGDClassifier())]\n",
    ")\n",
    "\n",
    "#svm_pipeline.fit(df_emails_train.content, df_emails_train.label)"
   ]
  },
  {
   "cell_type": "code",
   "execution_count": 54,
   "metadata": {},
   "outputs": [],
   "source": [
    "parameters = {'vect__ngram_range': [(1, 1), (1, 2)], 'tfidf__use_idf': (True, False), 'clf__alpha': (1e-2, 1e-3)}"
   ]
  },
  {
   "cell_type": "code",
   "execution_count": 55,
   "metadata": {},
   "outputs": [],
   "source": [
    "svm_scores = cross_val_predict(svm_pipeline, df_emails.content, df_emails.label, cv=kfold)"
   ]
  },
  {
   "cell_type": "code",
   "execution_count": 56,
   "metadata": {},
   "outputs": [
    {
     "name": "stdout",
     "output_type": "stream",
     "text": [
      "             precision    recall  f1-score   support\n",
      "\n",
      "        ham       1.00      1.00      1.00      5000\n",
      "      phish       1.00      1.00      1.00      4980\n",
      "\n",
      "avg / total       1.00      1.00      1.00      9980\n",
      "\n"
     ]
    }
   ],
   "source": [
    "print(skmetrics.classification_report(df_emails.label, svm_scores))"
   ]
  },
  {
   "cell_type": "code",
   "execution_count": 57,
   "metadata": {},
   "outputs": [
    {
     "name": "stdout",
     "output_type": "stream",
     "text": [
      "0.9966933867735471\n"
     ]
    }
   ],
   "source": [
    "print(skmetrics.accuracy_score(df_emails.label, svm_scores))"
   ]
  },
  {
   "cell_type": "code",
   "execution_count": 58,
   "metadata": {},
   "outputs": [
    {
     "name": "stdout",
     "output_type": "stream",
     "text": [
      "fold 0\n",
      "             precision    recall  f1-score   support\n",
      "\n",
      "        ham       0.99      1.00      1.00       996\n",
      "      phish       1.00      0.99      1.00      1000\n",
      "\n",
      "avg / total       1.00      1.00      1.00      1996\n",
      "\n",
      "fold 1\n",
      "             precision    recall  f1-score   support\n",
      "\n",
      "        ham       1.00      1.00      1.00      1010\n",
      "      phish       0.99      1.00      1.00       986\n",
      "\n",
      "avg / total       1.00      1.00      1.00      1996\n",
      "\n",
      "fold 2\n",
      "             precision    recall  f1-score   support\n",
      "\n",
      "        ham       1.00      1.00      1.00       994\n",
      "      phish       1.00      1.00      1.00      1002\n",
      "\n",
      "avg / total       1.00      1.00      1.00      1996\n",
      "\n",
      "fold 3\n",
      "             precision    recall  f1-score   support\n",
      "\n",
      "        ham       1.00      1.00      1.00      1001\n",
      "      phish       0.99      1.00      1.00       995\n",
      "\n",
      "avg / total       1.00      1.00      1.00      1996\n",
      "\n",
      "fold 4\n",
      "             precision    recall  f1-score   support\n",
      "\n",
      "        ham       1.00      1.00      1.00       999\n",
      "      phish       1.00      1.00      1.00       997\n",
      "\n",
      "avg / total       1.00      1.00      1.00      1996\n",
      "\n",
      "F1 Micro: 0.9968937875751503\n",
      "F1 Macro: 0.9968936818049687\n",
      "F1 Weighted: 0.996893798466443\n",
      "\n",
      "Precision Micro: 0.9968937875751503\n",
      "Precision Macro: 0.9968916928238499\n",
      "Preicision Weighted: 0.9968951095335378\n",
      "\n",
      "Recall Micro: 0.9968937875751503\n",
      "Recall Macro: 0.9968969710744385\n",
      "Recall Weighted: 0.9968937875751503\n",
      "\n",
      "avg accuracy: 1.0\n",
      "avg phish precision: 1.0\n",
      "avg phish recall: 1.0\n"
     ]
    }
   ],
   "source": [
    "#SVM + Netcraft\n",
    "netcraft_cv(df_emails, svm_pipeline)"
   ]
  },
  {
   "cell_type": "markdown",
   "metadata": {},
   "source": [
    "### Extra: Attempting to label spam folder as phishing"
   ]
  },
  {
   "cell_type": "code",
   "execution_count": 70,
   "metadata": {},
   "outputs": [],
   "source": [
    "titles = []\n",
    "contents = []\n",
    "labels = []\n",
    "\n",
    "for f in os.listdir(os.path.join('enron6','spam')):\n",
    "        with open(os.path.join('enron6', 'spam', f), 'r') as reader:\n",
    "            try:\n",
    "                c = reader.read()\n",
    "            except:\n",
    "                continue\n",
    "            contents.append(c)\n",
    "            titles.append(f)\n",
    "            labels.append('ham')\n",
    "\n",
    "df_spam = pd.DataFrame({'title': titles, 'content': contents, 'label': 'ham'},\n",
    "                    columns = ['label', 'title', 'content'])"
   ]
  },
  {
   "cell_type": "code",
   "execution_count": 71,
   "metadata": {},
   "outputs": [],
   "source": [
    "predictions = svm_pipeline.predict(df_spam.content)"
   ]
  },
  {
   "cell_type": "code",
   "execution_count": 72,
   "metadata": {},
   "outputs": [],
   "source": [
    "df_spam['predicted_label'] = predictions"
   ]
  },
  {
   "cell_type": "code",
   "execution_count": 62,
   "metadata": {},
   "outputs": [
    {
     "data": {
      "text/html": [
       "<div>\n",
       "<style scoped>\n",
       "    .dataframe tbody tr th:only-of-type {\n",
       "        vertical-align: middle;\n",
       "    }\n",
       "\n",
       "    .dataframe tbody tr th {\n",
       "        vertical-align: top;\n",
       "    }\n",
       "\n",
       "    .dataframe thead th {\n",
       "        text-align: right;\n",
       "    }\n",
       "</style>\n",
       "<table border=\"1\" class=\"dataframe\">\n",
       "  <thead>\n",
       "    <tr style=\"text-align: right;\">\n",
       "      <th></th>\n",
       "      <th>label</th>\n",
       "      <th>title</th>\n",
       "      <th>content</th>\n",
       "      <th>predicted_label</th>\n",
       "    </tr>\n",
       "  </thead>\n",
       "  <tbody>\n",
       "    <tr>\n",
       "      <th>0</th>\n",
       "      <td>spam</td>\n",
       "      <td>0002.2004-08-01.BG.spam.txt</td>\n",
       "      <td>Subject: advs\\ngreetings ,\\ni am benedicta lin...</td>\n",
       "      <td>ham</td>\n",
       "    </tr>\n",
       "    <tr>\n",
       "      <th>1</th>\n",
       "      <td>spam</td>\n",
       "      <td>0003.2004-08-01.BG.spam.txt</td>\n",
       "      <td>Subject: whats new in summer ? bawled\\ncarolyn...</td>\n",
       "      <td>phish</td>\n",
       "    </tr>\n",
       "    <tr>\n",
       "      <th>2</th>\n",
       "      <td>spam</td>\n",
       "      <td>0004.2004-08-01.BG.spam.txt</td>\n",
       "      <td>Subject: \\nh $ ello\\ndea 54 r home owner ,\\nwe...</td>\n",
       "      <td>ham</td>\n",
       "    </tr>\n",
       "    <tr>\n",
       "      <th>3</th>\n",
       "      <td>spam</td>\n",
       "      <td>0006.2004-08-01.BG.spam.txt</td>\n",
       "      <td>Subject: : ) ) you can not save the world by q...</td>\n",
       "      <td>phish</td>\n",
       "    </tr>\n",
       "    <tr>\n",
       "      <th>4</th>\n",
       "      <td>spam</td>\n",
       "      <td>0007.2004-08-01.BG.spam.txt</td>\n",
       "      <td>Subject: need software ? click here .\\ntop qua...</td>\n",
       "      <td>phish</td>\n",
       "    </tr>\n",
       "  </tbody>\n",
       "</table>\n",
       "</div>"
      ],
      "text/plain": [
       "  label                        title  \\\n",
       "0  spam  0002.2004-08-01.BG.spam.txt   \n",
       "1  spam  0003.2004-08-01.BG.spam.txt   \n",
       "2  spam  0004.2004-08-01.BG.spam.txt   \n",
       "3  spam  0006.2004-08-01.BG.spam.txt   \n",
       "4  spam  0007.2004-08-01.BG.spam.txt   \n",
       "\n",
       "                                             content predicted_label  \n",
       "0  Subject: advs\\ngreetings ,\\ni am benedicta lin...             ham  \n",
       "1  Subject: whats new in summer ? bawled\\ncarolyn...           phish  \n",
       "2  Subject: \\nh $ ello\\ndea 54 r home owner ,\\nwe...             ham  \n",
       "3  Subject: : ) ) you can not save the world by q...           phish  \n",
       "4  Subject: need software ? click here .\\ntop qua...           phish  "
      ]
     },
     "execution_count": 62,
     "metadata": {},
     "output_type": "execute_result"
    }
   ],
   "source": [
    "df_spam.head()"
   ]
  },
  {
   "cell_type": "code",
   "execution_count": 73,
   "metadata": {},
   "outputs": [
    {
     "name": "stdout",
     "output_type": "stream",
     "text": [
      "4496\n",
      "4496\n",
      "[[1781 2715]\n",
      " [   0    0]]\n",
      "Accuracy Score : 0.39612989323843417\n",
      "             precision    recall  f1-score   support\n",
      "\n",
      "        ham       1.00      0.40      0.57      4496\n",
      "      phish       0.00      0.00      0.00         0\n",
      "\n",
      "avg / total       1.00      0.40      0.57      4496\n",
      "\n"
     ]
    }
   ],
   "source": [
    "from sklearn.metrics import confusion_matrix\n",
    "from sklearn.metrics import accuracy_score\n",
    "from sklearn.metrics import classification_report\n",
    "\n",
    "\n",
    "x= list(df_spam.label)\n",
    "y= list(predictions)\n",
    "print(len(x))\n",
    "print(len(y))\n",
    "results = confusion_matrix(x,y) \n",
    "#print('Confusion Matrix :')\n",
    "print(results) \n",
    "print('Accuracy Score :',accuracy_score(x,y))\n",
    "#print ('Report : ')\n",
    "print(classification_report(x,y))"
   ]
  },
  {
   "cell_type": "code",
   "execution_count": null,
   "metadata": {},
   "outputs": [],
   "source": []
  }
 ],
 "metadata": {
  "kernelspec": {
   "display_name": "Python 3",
   "language": "python",
   "name": "python3"
  },
  "language_info": {
   "codemirror_mode": {
    "name": "ipython",
    "version": 3
   },
   "file_extension": ".py",
   "mimetype": "text/x-python",
   "name": "python",
   "nbconvert_exporter": "python",
   "pygments_lexer": "ipython3",
   "version": "3.7.0"
  }
 },
 "nbformat": 4,
 "nbformat_minor": 2
}
