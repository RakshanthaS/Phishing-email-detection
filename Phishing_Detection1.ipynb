{
 "cells": [
  {
   "cell_type": "code",
   "execution_count": 1,
   "metadata": {},
   "outputs": [],
   "source": [
    "import pandas as pd\n",
    "import string\n",
    "import email\n",
    "import nltk\n",
    "import os\n",
    "import pickle\n",
    "import re\n",
    "from nltk.tokenize import RegexpTokenizer\n",
    "#import sklearn.cross_validation as skcv\n",
    "import warnings\n",
    "warnings.filterwarnings('ignore')\n",
    "import sklearn.feature_extraction.text as skft\n",
    "from sklearn.ensemble import RandomForestClassifier\n",
    "import sklearn.metrics as skmetrics\n",
    "import sklearn.pipeline as skpipe\n",
    "import sklearn.decomposition as skd\n",
    "import sklearn.naive_bayes as sknb\n",
    "from nltk.corpus import stopwords\n",
    "import matplotlib.pyplot as plt\n",
    "import wordcloud\n",
    "from sklearn.model_selection import cross_val_score, cross_val_predict\n",
    "#from sklearn.model_selection import cross_validate\n",
    "from sklearn.model_selection import KFold\n",
    "from sklearn.model_selection import train_test_split, GridSearchCV\n",
    "from sklearn.linear_model import SGDClassifier\n",
    "import numpy as np\n",
    "\n",
    "%matplotlib inline\n",
    "\n",
    "\n",
    "#import email_read_util"
   ]
  },
  {
   "cell_type": "markdown",
   "metadata": {},
   "source": [
    "#### Sources\n",
    "- https://github.com/tianruip1994/Semantic_Analysis\n",
    "- https://scikit-learn.org/stable/tutorial/text_analytics/working_with_text_data.html\n",
    "- SI 370 Lecture Code (Daniel Romero)"
   ]
  },
  {
   "cell_type": "markdown",
   "metadata": {},
   "source": [
    "### Collect phishing emails"
   ]
  },
  {
   "cell_type": "code",
   "execution_count": 2,
   "metadata": {
    "collapsed": true
   },
   "outputs": [],
   "source": [
    "def create_phish_df(my_dir):\n",
    "    titles = []\n",
    "    contents = []\n",
    "    labels = []\n",
    "\n",
    "    for f in os.listdir(os.path.join('phish',my_dir)):\n",
    "            with open(os.path.join('phish', my_dir, f), 'r') as reader:\n",
    "                try:\n",
    "                    c = reader.read()\n",
    "                except:\n",
    "                    continue\n",
    "                contents.append(c)\n",
    "                titles.append(f)\n",
    "                labels.append('phish')\n",
    "\n",
    "    df = pd.DataFrame({'title': titles, 'content': contents, 'label': 'phish'},\n",
    "                        columns = ['label', 'title', 'content'])\n",
    "    return df"
   ]
  },
  {
   "cell_type": "code",
   "execution_count": 3,
   "metadata": {
    "collapsed": true
   },
   "outputs": [],
   "source": [
    "phish_email_list = ['20051114', 'phishing0', 'phishing1', 'phishing2', 'phishing3']"
   ]
  },
  {
   "cell_type": "code",
   "execution_count": 4,
   "metadata": {
    "collapsed": true
   },
   "outputs": [],
   "source": [
    "phish_lst = []\n",
    "for phish_folder in phish_email_list:\n",
    "    phish_lst.append(create_phish_df(phish_folder))"
   ]
  },
  {
   "cell_type": "code",
   "execution_count": 5,
   "metadata": {},
   "outputs": [
    {
     "data": {
      "text/html": [
       "<div>\n",
       "<style scoped>\n",
       "    .dataframe tbody tr th:only-of-type {\n",
       "        vertical-align: middle;\n",
       "    }\n",
       "\n",
       "    .dataframe tbody tr th {\n",
       "        vertical-align: top;\n",
       "    }\n",
       "\n",
       "    .dataframe thead th {\n",
       "        text-align: right;\n",
       "    }\n",
       "</style>\n",
       "<table border=\"1\" class=\"dataframe\">\n",
       "  <thead>\n",
       "    <tr style=\"text-align: right;\">\n",
       "      <th></th>\n",
       "      <th>label</th>\n",
       "      <th>title</th>\n",
       "      <th>content</th>\n",
       "    </tr>\n",
       "  </thead>\n",
       "  <tbody>\n",
       "    <tr>\n",
       "      <th>0</th>\n",
       "      <td>phish</td>\n",
       "      <td>212_False.txt</td>\n",
       "      <td>Subject: Account compromised: billing informat...</td>\n",
       "    </tr>\n",
       "    <tr>\n",
       "      <th>1</th>\n",
       "      <td>phish</td>\n",
       "      <td>162_False.txt</td>\n",
       "      <td>Subject: Verify your PayPal Account We recentl...</td>\n",
       "    </tr>\n",
       "    <tr>\n",
       "      <th>2</th>\n",
       "      <td>phish</td>\n",
       "      <td>354_False.txt</td>\n",
       "      <td>Subject: Update and Verify Your Account  - NNS...</td>\n",
       "    </tr>\n",
       "    <tr>\n",
       "      <th>3</th>\n",
       "      <td>phish</td>\n",
       "      <td>73_False.txt</td>\n",
       "      <td>Subject: FCU NOTICE: Important security renewa...</td>\n",
       "    </tr>\n",
       "    <tr>\n",
       "      <th>4</th>\n",
       "      <td>phish</td>\n",
       "      <td>432_False.txt</td>\n",
       "      <td>Subject: Please Update Your Account Informatio...</td>\n",
       "    </tr>\n",
       "  </tbody>\n",
       "</table>\n",
       "</div>"
      ],
      "text/plain": [
       "   label          title                                            content\n",
       "0  phish  212_False.txt  Subject: Account compromised: billing informat...\n",
       "1  phish  162_False.txt  Subject: Verify your PayPal Account We recentl...\n",
       "2  phish  354_False.txt  Subject: Update and Verify Your Account  - NNS...\n",
       "3  phish   73_False.txt  Subject: FCU NOTICE: Important security renewa...\n",
       "4  phish  432_False.txt  Subject: Please Update Your Account Informatio..."
      ]
     },
     "execution_count": 5,
     "metadata": {},
     "output_type": "execute_result"
    }
   ],
   "source": [
    "df_phish = pd.concat(phish_lst)\n",
    "df_phish = df_phish[:5000]\n",
    "df_phish.head()"
   ]
  },
  {
   "cell_type": "code",
   "execution_count": 6,
   "metadata": {},
   "outputs": [
    {
     "data": {
      "text/plain": [
       "(5000, 3)"
      ]
     },
     "execution_count": 6,
     "metadata": {},
     "output_type": "execute_result"
    }
   ],
   "source": [
    "df_phish.shape"
   ]
  },
  {
   "cell_type": "markdown",
   "metadata": {},
   "source": [
    "### Collect non-phishing emails (ham)"
   ]
  },
  {
   "cell_type": "code",
   "execution_count": 7,
   "metadata": {
    "collapsed": true
   },
   "outputs": [],
   "source": [
    "ham_email_list = ['enron3','enron4', 'enron5', 'enron6']"
   ]
  },
  {
   "cell_type": "code",
   "execution_count": 8,
   "metadata": {
    "collapsed": true
   },
   "outputs": [],
   "source": [
    "def create_ham_df(my_dir):\n",
    "    titles = []\n",
    "    contents = []\n",
    "    labels = []\n",
    "\n",
    "    for f in os.listdir(os.path.join(my_dir,'ham')):\n",
    "            with open(os.path.join(my_dir, 'ham', f), 'r') as reader:\n",
    "                try:\n",
    "                    c = reader.read()\n",
    "                except:\n",
    "                    continue\n",
    "                contents.append(c)\n",
    "                titles.append(f)\n",
    "                labels.append('ham')\n",
    "\n",
    "    df = pd.DataFrame({'title': titles, 'content': contents, 'label': 'ham'},\n",
    "                        columns = ['label', 'title', 'content'])\n",
    "    return df\n",
    "    \n",
    "    "
   ]
  },
  {
   "cell_type": "code",
   "execution_count": 9,
   "metadata": {
    "collapsed": true
   },
   "outputs": [],
   "source": [
    "ham_list = []\n",
    "for ham in ham_email_list:\n",
    "    ham_list.append(create_ham_df(ham))"
   ]
  },
  {
   "cell_type": "code",
   "execution_count": 10,
   "metadata": {
    "collapsed": true
   },
   "outputs": [],
   "source": [
    "df_ham = pd.concat(ham_list)\n",
    "df_ham = df_ham[:5000]"
   ]
  },
  {
   "cell_type": "code",
   "execution_count": 11,
   "metadata": {},
   "outputs": [
    {
     "data": {
      "text/html": [
       "<div>\n",
       "<style scoped>\n",
       "    .dataframe tbody tr th:only-of-type {\n",
       "        vertical-align: middle;\n",
       "    }\n",
       "\n",
       "    .dataframe tbody tr th {\n",
       "        vertical-align: top;\n",
       "    }\n",
       "\n",
       "    .dataframe thead th {\n",
       "        text-align: right;\n",
       "    }\n",
       "</style>\n",
       "<table border=\"1\" class=\"dataframe\">\n",
       "  <thead>\n",
       "    <tr style=\"text-align: right;\">\n",
       "      <th></th>\n",
       "      <th>label</th>\n",
       "      <th>title</th>\n",
       "      <th>content</th>\n",
       "    </tr>\n",
       "  </thead>\n",
       "  <tbody>\n",
       "    <tr>\n",
       "      <th>0</th>\n",
       "      <td>ham</td>\n",
       "      <td>3210.2001-10-19.kitchen.ham.txt</td>\n",
       "      <td>Subject: re : chin up as the brits say\\nyou ma...</td>\n",
       "    </tr>\n",
       "    <tr>\n",
       "      <th>1</th>\n",
       "      <td>ham</td>\n",
       "      <td>0258.2001-03-19.kitchen.ham.txt</td>\n",
       "      <td>Subject: ees / ena customer split\\nhere is our...</td>\n",
       "    </tr>\n",
       "    <tr>\n",
       "      <th>2</th>\n",
       "      <td>ham</td>\n",
       "      <td>2582.2001-09-18.kitchen.ham.txt</td>\n",
       "      <td>Subject: california update - - 09 . 18 . 01\\nt...</td>\n",
       "    </tr>\n",
       "    <tr>\n",
       "      <th>3</th>\n",
       "      <td>ham</td>\n",
       "      <td>1193.2001-06-14.kitchen.ham.txt</td>\n",
       "      <td>Subject: drift allocation update\\nthe followin...</td>\n",
       "    </tr>\n",
       "    <tr>\n",
       "      <th>4</th>\n",
       "      <td>ham</td>\n",
       "      <td>0293.2001-03-21.kitchen.ham.txt</td>\n",
       "      <td>Subject: enron producer one\\nfyi\\n- - - - - - ...</td>\n",
       "    </tr>\n",
       "  </tbody>\n",
       "</table>\n",
       "</div>"
      ],
      "text/plain": [
       "  label                            title  \\\n",
       "0   ham  3210.2001-10-19.kitchen.ham.txt   \n",
       "1   ham  0258.2001-03-19.kitchen.ham.txt   \n",
       "2   ham  2582.2001-09-18.kitchen.ham.txt   \n",
       "3   ham  1193.2001-06-14.kitchen.ham.txt   \n",
       "4   ham  0293.2001-03-21.kitchen.ham.txt   \n",
       "\n",
       "                                             content  \n",
       "0  Subject: re : chin up as the brits say\\nyou ma...  \n",
       "1  Subject: ees / ena customer split\\nhere is our...  \n",
       "2  Subject: california update - - 09 . 18 . 01\\nt...  \n",
       "3  Subject: drift allocation update\\nthe followin...  \n",
       "4  Subject: enron producer one\\nfyi\\n- - - - - - ...  "
      ]
     },
     "execution_count": 11,
     "metadata": {},
     "output_type": "execute_result"
    }
   ],
   "source": [
    "df_ham.head()"
   ]
  },
  {
   "cell_type": "code",
   "execution_count": 12,
   "metadata": {},
   "outputs": [
    {
     "data": {
      "text/plain": [
       "(5000, 3)"
      ]
     },
     "execution_count": 12,
     "metadata": {},
     "output_type": "execute_result"
    }
   ],
   "source": [
    "df_ham.shape"
   ]
  },
  {
   "cell_type": "code",
   "execution_count": 13,
   "metadata": {},
   "outputs": [
    {
     "data": {
      "text/html": [
       "<div>\n",
       "<style scoped>\n",
       "    .dataframe tbody tr th:only-of-type {\n",
       "        vertical-align: middle;\n",
       "    }\n",
       "\n",
       "    .dataframe tbody tr th {\n",
       "        vertical-align: top;\n",
       "    }\n",
       "\n",
       "    .dataframe thead th {\n",
       "        text-align: right;\n",
       "    }\n",
       "</style>\n",
       "<table border=\"1\" class=\"dataframe\">\n",
       "  <thead>\n",
       "    <tr style=\"text-align: right;\">\n",
       "      <th></th>\n",
       "      <th>label</th>\n",
       "      <th>title</th>\n",
       "      <th>content</th>\n",
       "    </tr>\n",
       "  </thead>\n",
       "  <tbody>\n",
       "    <tr>\n",
       "      <th>2526</th>\n",
       "      <td>ham</td>\n",
       "      <td>4010.2001-11-15.kitchen.ham.txt</td>\n",
       "      <td>Subject: org chart\\ntina rode\\nassistant to da...</td>\n",
       "    </tr>\n",
       "    <tr>\n",
       "      <th>738</th>\n",
       "      <td>phish</td>\n",
       "      <td>377_False.txt</td>\n",
       "      <td>Subject: New email address added to your accou...</td>\n",
       "    </tr>\n",
       "    <tr>\n",
       "      <th>2045</th>\n",
       "      <td>phish</td>\n",
       "      <td>1528_False.txt</td>\n",
       "      <td>Subject: Account Review PayPal &lt;\\n-- hr\\ndotte...</td>\n",
       "    </tr>\n",
       "    <tr>\n",
       "      <th>710</th>\n",
       "      <td>ham</td>\n",
       "      <td>1678.2001-07-30.williams.ham.txt</td>\n",
       "      <td>Subject: party @ miss amy ' s house fri\\nwe wo...</td>\n",
       "    </tr>\n",
       "    <tr>\n",
       "      <th>3818</th>\n",
       "      <td>ham</td>\n",
       "      <td>0222.2001-03-16.kitchen.ham.txt</td>\n",
       "      <td>Subject: re : inland resources\\ndick - great j...</td>\n",
       "    </tr>\n",
       "    <tr>\n",
       "      <th>200</th>\n",
       "      <td>ham</td>\n",
       "      <td>4646.2002-01-12.williams.ham.txt</td>\n",
       "      <td>Subject: start date : 1 / 12 / 02 ; hourahead ...</td>\n",
       "    </tr>\n",
       "    <tr>\n",
       "      <th>3030</th>\n",
       "      <td>ham</td>\n",
       "      <td>1836.2001-07-30.kitchen.ham.txt</td>\n",
       "      <td>Subject: beaver creek accommodations\\nbelow is...</td>\n",
       "    </tr>\n",
       "    <tr>\n",
       "      <th>1174</th>\n",
       "      <td>ham</td>\n",
       "      <td>3982.2001-11-13.kitchen.ham.txt</td>\n",
       "      <td>Subject: today ' s floor meeting\\nyou may get ...</td>\n",
       "    </tr>\n",
       "    <tr>\n",
       "      <th>508</th>\n",
       "      <td>phish</td>\n",
       "      <td>2180_False.txt</td>\n",
       "      <td>Subject: About your account\\n You have added s...</td>\n",
       "    </tr>\n",
       "    <tr>\n",
       "      <th>111</th>\n",
       "      <td>phish</td>\n",
       "      <td>862_False.txt</td>\n",
       "      <td>Subject: Notification from Billing Department ...</td>\n",
       "    </tr>\n",
       "  </tbody>\n",
       "</table>\n",
       "</div>"
      ],
      "text/plain": [
       "      label                             title  \\\n",
       "2526    ham   4010.2001-11-15.kitchen.ham.txt   \n",
       "738   phish                     377_False.txt   \n",
       "2045  phish                    1528_False.txt   \n",
       "710     ham  1678.2001-07-30.williams.ham.txt   \n",
       "3818    ham   0222.2001-03-16.kitchen.ham.txt   \n",
       "200     ham  4646.2002-01-12.williams.ham.txt   \n",
       "3030    ham   1836.2001-07-30.kitchen.ham.txt   \n",
       "1174    ham   3982.2001-11-13.kitchen.ham.txt   \n",
       "508   phish                    2180_False.txt   \n",
       "111   phish                     862_False.txt   \n",
       "\n",
       "                                                content  \n",
       "2526  Subject: org chart\\ntina rode\\nassistant to da...  \n",
       "738   Subject: New email address added to your accou...  \n",
       "2045  Subject: Account Review PayPal <\\n-- hr\\ndotte...  \n",
       "710   Subject: party @ miss amy ' s house fri\\nwe wo...  \n",
       "3818  Subject: re : inland resources\\ndick - great j...  \n",
       "200   Subject: start date : 1 / 12 / 02 ; hourahead ...  \n",
       "3030  Subject: beaver creek accommodations\\nbelow is...  \n",
       "1174  Subject: today ' s floor meeting\\nyou may get ...  \n",
       "508   Subject: About your account\\n You have added s...  \n",
       "111   Subject: Notification from Billing Department ...  "
      ]
     },
     "execution_count": 13,
     "metadata": {},
     "output_type": "execute_result"
    }
   ],
   "source": [
    "df_emails = pd.concat([df_ham, df_phish])\n",
    "df_emails.sample(10)"
   ]
  },
  {
   "cell_type": "code",
   "execution_count": 14,
   "metadata": {
    "collapsed": true
   },
   "outputs": [],
   "source": [
    "def contains_phish_link(df):\n",
    "    #match = re.match(r'True', str(df.title))\n",
    "    if(re.match(r'.*True.txt$', str(df.title))):\n",
    "        return True\n",
    "    return False"
   ]
  },
  {
   "cell_type": "code",
   "execution_count": 15,
   "metadata": {
    "collapsed": true
   },
   "outputs": [],
   "source": [
    "df_emails['malic'] = df_emails.apply(contains_phish_link, axis = 1)"
   ]
  },
  {
   "cell_type": "code",
   "execution_count": 16,
   "metadata": {},
   "outputs": [
    {
     "data": {
      "text/html": [
       "<div>\n",
       "<style scoped>\n",
       "    .dataframe tbody tr th:only-of-type {\n",
       "        vertical-align: middle;\n",
       "    }\n",
       "\n",
       "    .dataframe tbody tr th {\n",
       "        vertical-align: top;\n",
       "    }\n",
       "\n",
       "    .dataframe thead th {\n",
       "        text-align: right;\n",
       "    }\n",
       "</style>\n",
       "<table border=\"1\" class=\"dataframe\">\n",
       "  <thead>\n",
       "    <tr style=\"text-align: right;\">\n",
       "      <th></th>\n",
       "      <th>label</th>\n",
       "      <th>title</th>\n",
       "      <th>content</th>\n",
       "      <th>malic</th>\n",
       "    </tr>\n",
       "  </thead>\n",
       "  <tbody>\n",
       "    <tr>\n",
       "      <th>0</th>\n",
       "      <td>ham</td>\n",
       "      <td>3210.2001-10-19.kitchen.ham.txt</td>\n",
       "      <td>Subject: re : chin up as the brits say\\nyou ma...</td>\n",
       "      <td>False</td>\n",
       "    </tr>\n",
       "    <tr>\n",
       "      <th>1</th>\n",
       "      <td>ham</td>\n",
       "      <td>0258.2001-03-19.kitchen.ham.txt</td>\n",
       "      <td>Subject: ees / ena customer split\\nhere is our...</td>\n",
       "      <td>False</td>\n",
       "    </tr>\n",
       "    <tr>\n",
       "      <th>2</th>\n",
       "      <td>ham</td>\n",
       "      <td>2582.2001-09-18.kitchen.ham.txt</td>\n",
       "      <td>Subject: california update - - 09 . 18 . 01\\nt...</td>\n",
       "      <td>False</td>\n",
       "    </tr>\n",
       "    <tr>\n",
       "      <th>3</th>\n",
       "      <td>ham</td>\n",
       "      <td>1193.2001-06-14.kitchen.ham.txt</td>\n",
       "      <td>Subject: drift allocation update\\nthe followin...</td>\n",
       "      <td>False</td>\n",
       "    </tr>\n",
       "    <tr>\n",
       "      <th>4</th>\n",
       "      <td>ham</td>\n",
       "      <td>0293.2001-03-21.kitchen.ham.txt</td>\n",
       "      <td>Subject: enron producer one\\nfyi\\n- - - - - - ...</td>\n",
       "      <td>False</td>\n",
       "    </tr>\n",
       "  </tbody>\n",
       "</table>\n",
       "</div>"
      ],
      "text/plain": [
       "  label                            title  \\\n",
       "0   ham  3210.2001-10-19.kitchen.ham.txt   \n",
       "1   ham  0258.2001-03-19.kitchen.ham.txt   \n",
       "2   ham  2582.2001-09-18.kitchen.ham.txt   \n",
       "3   ham  1193.2001-06-14.kitchen.ham.txt   \n",
       "4   ham  0293.2001-03-21.kitchen.ham.txt   \n",
       "\n",
       "                                             content  malic  \n",
       "0  Subject: re : chin up as the brits say\\nyou ma...  False  \n",
       "1  Subject: ees / ena customer split\\nhere is our...  False  \n",
       "2  Subject: california update - - 09 . 18 . 01\\nt...  False  \n",
       "3  Subject: drift allocation update\\nthe followin...  False  \n",
       "4  Subject: enron producer one\\nfyi\\n- - - - - - ...  False  "
      ]
     },
     "execution_count": 16,
     "metadata": {},
     "output_type": "execute_result"
    }
   ],
   "source": [
    "df_emails.head()"
   ]
  },
  {
   "cell_type": "code",
   "execution_count": 17,
   "metadata": {},
   "outputs": [
    {
     "data": {
      "text/plain": [
       "322"
      ]
     },
     "execution_count": 17,
     "metadata": {},
     "output_type": "execute_result"
    }
   ],
   "source": [
    "len(df_emails[df_emails['malic'] == True])"
   ]
  },
  {
   "cell_type": "code",
   "execution_count": 18,
   "metadata": {},
   "outputs": [],
   "source": [
    "df_emails_train, df_emails_test = train_test_split(df_emails, test_size=0.3, random_state=0)"
   ]
  },
  {
   "cell_type": "code",
   "execution_count": 19,
   "metadata": {
    "collapsed": true
   },
   "outputs": [],
   "source": [
    "#frequency distribution\n",
    "text_all = '\\n'.join(df_emails_train.content).lower()\n",
    "stop_words = set(stopwords.words('english'))\n",
    "tokenizer = RegexpTokenizer(r'\\w+')#nltk.tokenize.wordpunct_tokenize(text_all)\n",
    "tokens_all = tokenizer.tokenize(text_all)\n",
    "tokens_all = [word for word in tokens_all if word not in stop_words and word != 'font' and word != 'subject']#word not in string.punctuation"
   ]
  },
  {
   "cell_type": "code",
   "execution_count": 20,
   "metadata": {
    "collapsed": true
   },
   "outputs": [],
   "source": [
    "fd = nltk.probability.FreqDist(tokens_all)"
   ]
  },
  {
   "cell_type": "code",
   "execution_count": 21,
   "metadata": {
    "collapsed": true
   },
   "outputs": [],
   "source": [
    "#fd plot for phishing emails"
   ]
  },
  {
   "cell_type": "code",
   "execution_count": 22,
   "metadata": {
    "collapsed": true
   },
   "outputs": [],
   "source": [
    "#frequency distribution\n",
    "phish_text_all = '\\n'.join(df_phish.content).lower()\n",
    "phish_tokens_all = tokenizer.tokenize(phish_text_all)\n",
    "phish_tokens_all = [word for word in phish_tokens_all if word not in stop_words and word != 'font' and word != 'subject']"
   ]
  },
  {
   "cell_type": "code",
   "execution_count": 23,
   "metadata": {},
   "outputs": [
    {
     "data": {
      "image/png": "[encoded data removed]",
      "text/plain": [
       "<matplotlib.figure.Figure at 0x1a138a5a90>"
      ]
     },
     "metadata": {},
     "output_type": "display_data"
    }
   ],
   "source": [
    "fd_phish = nltk.probability.FreqDist(phish_tokens_all)\n",
    "fd_phish.plot(20)"
   ]
  },
  {
   "cell_type": "code",
   "execution_count": 24,
   "metadata": {
    "collapsed": true
   },
   "outputs": [],
   "source": [
    "#Create wordcloud\n",
    "# wc = wordcloud.WordCloud(max_words=1000, stopwords=stop_words,\n",
    "#                          margin=10,random_state=2).generate(' '.join(phish_tokens_all))\n",
    "\n",
    "# fig,ax = plt.subplots(figsize=(12,8))\n",
    "# ax.imshow(wc) #Display an image on the axes."
   ]
  },
  {
   "cell_type": "code",
   "execution_count": 25,
   "metadata": {},
   "outputs": [
    {
     "name": "stdout",
     "output_type": "stream",
     "text": [
      "training set tokens 1687623\n"
     ]
    }
   ],
   "source": [
    "print('training set tokens', len(tokens_all))"
   ]
  },
  {
   "cell_type": "code",
   "execution_count": 26,
   "metadata": {},
   "outputs": [
    {
     "name": "stdout",
     "output_type": "stream",
     "text": [
      "unique training set tokens 68423\n"
     ]
    }
   ],
   "source": [
    "print ('unique training set tokens', len(set(tokens_all)))"
   ]
  },
  {
   "cell_type": "markdown",
   "metadata": {},
   "source": [
    "### Netcraft Code"
   ]
  },
  {
   "cell_type": "code",
   "execution_count": 27,
   "metadata": {
    "collapsed": true
   },
   "outputs": [],
   "source": [
    "def netcraft_algo(df):\n",
    "    if(df['malic'] == True):\n",
    "        return 'phish'\n",
    "    else:\n",
    "        pass"
   ]
  },
  {
   "cell_type": "code",
   "execution_count": 28,
   "metadata": {
    "collapsed": true
   },
   "outputs": [],
   "source": [
    "def netcraft_cv(df, model):\n",
    "    precision_scores_weighted = []\n",
    "    precision_scores_micro = []\n",
    "    precision_scores_macro = []\n",
    "    \n",
    "    precision_scores = []\n",
    "    recall_scores = []\n",
    "    \n",
    "    f1_scores_macro = []\n",
    "    f1_scores_micro = []\n",
    "    f1_scores_weighted = []\n",
    "    \n",
    "    recall_scores_macro = []\n",
    "    recall_scores_micro = []\n",
    "    recall_scores_weighted = []\n",
    "    \n",
    "    \n",
    "    accuracy_scores = []\n",
    "    kf = KFold(n_splits = 5, shuffle = True, random_state = 1)\n",
    "    fold = 0\n",
    "    for train_ind, test_ind in kf.split(df):\n",
    "\n",
    "        df_emails_train = df.iloc[train_ind]\n",
    "        df_emails_test =  df.iloc[test_ind]\n",
    "        \n",
    "        model.fit(df_emails_train.content, df_emails_train.label)\n",
    "        model_test_predicted = model.predict(df_emails_test.content)\n",
    "\n",
    "        df_emails_test['predicted_label'] = df_emails_test.apply(netcraft_algo, axis = 1)\n",
    "        netcraft_test_predicted = [x for x in df_emails_test['predicted_label']]\n",
    "        test_predicted = []\n",
    "        for a, b in zip(netcraft_test_predicted, model_test_predicted):\n",
    "            if((a == 'phish') and (b != 'phish')):\n",
    "                test_predicted.append(a)\n",
    "            else:\n",
    "                test_predicted.append(b)\n",
    "        print('fold', fold)\n",
    "        print (skmetrics.classification_report(df_emails_test.label, test_predicted))\n",
    "        accuracy_scores.append(skmetrics.accuracy_score(df_emails_test.label, test_predicted))\n",
    "        \n",
    "        f1_scores_macro.append(skmetrics.f1_score(df_emails_test.label, test_predicted, average = 'macro'))\n",
    "        f1_scores_micro.append(skmetrics.f1_score(df_emails_test.label, test_predicted, average = 'micro'))\n",
    "        f1_scores_weighted.append(skmetrics.f1_score(df_emails_test.label, test_predicted, average = 'weighted'))\n",
    "        \n",
    "        precision_scores.append(skmetrics.precision_score(df_emails_test.label, test_predicted, pos_label = 'phish'))\n",
    "        \n",
    "        precision_scores_macro.append(skmetrics.precision_score(df_emails_test.label, test_predicted, average = 'macro'))\n",
    "        precision_scores_micro.append(skmetrics.precision_score(df_emails_test.label, test_predicted, average = 'micro'))\n",
    "        precision_scores_weighted.append(skmetrics.precision_score(df_emails_test.label, test_predicted, average = 'weighted'))\n",
    "        \n",
    "        recall_scores.append(skmetrics.recall_score(df_emails_test.label, test_predicted, pos_label = 'phish'))\n",
    "        \n",
    "        recall_scores_macro.append(skmetrics.recall_score(df_emails_test.label, test_predicted, average = 'macro'))\n",
    "        recall_scores_micro.append(skmetrics.recall_score(df_emails_test.label, test_predicted, average = 'micro'))\n",
    "        recall_scores_weighted.append(skmetrics.recall_score(df_emails_test.label, test_predicted, average = 'weighted'))\n",
    "        \n",
    "        \n",
    "        fold += 1\n",
    "    \n",
    "    print('F1 Micro:', np.mean(f1_scores_micro))\n",
    "    print('F1 Macro:', np.mean(f1_scores_macro))\n",
    "    print('F1 Weighted:', np.mean(f1_scores_weighted))\n",
    "    print()\n",
    "    print('Precision Micro:', np.mean(precision_scores_micro))\n",
    "    print('Precision Macro:', np.mean(precision_scores_macro))\n",
    "    print('Preicision Weighted:', np.mean(precision_scores_weighted))\n",
    "    print()\n",
    "    print('Recall Micro:', np.mean(recall_scores_micro))\n",
    "    print('Recall Macro:', np.mean(recall_scores_macro))\n",
    "    print('Recall Weighted:', np.mean(recall_scores_weighted))\n",
    "    print()\n",
    "    print('avg accuracy:', round(np.mean(accuracy_scores), 2))\n",
    "    print('avg phish precision:', round(np.mean(precision_scores), 2))\n",
    "    print('avg phish recall:', round(np.mean(recall_scores), 2))"
   ]
  },
  {
   "cell_type": "markdown",
   "metadata": {},
   "source": [
    "### Baseline : Random Forest"
   ]
  },
  {
   "cell_type": "code",
   "execution_count": 29,
   "metadata": {},
   "outputs": [
    {
     "data": {
      "text/plain": [
       "Pipeline(memory=None,\n",
       "     steps=[('vect', CountVectorizer(analyzer='word', binary=False, decode_error='strict',\n",
       "        dtype=<class 'numpy.int64'>, encoding='utf-8', input='content',\n",
       "        lowercase=True, max_df=0.7, max_features=None, min_df=1,\n",
       "        ngram_range=(1, 1), preprocessor=None, stop_words=None,\n",
       "        strip...obs=None,\n",
       "            oob_score=False, random_state=None, verbose=0,\n",
       "            warm_start=False))])"
      ]
     },
     "execution_count": 29,
     "metadata": {},
     "output_type": "execute_result"
    }
   ],
   "source": [
    "rf_pipeline = skpipe.Pipeline(\n",
    "    steps = [('vect', skft.CountVectorizer(max_df=0.7)),\n",
    "     ('tfidf', skft.TfidfTransformer()),\n",
    "     ('clf', RandomForestClassifier(max_depth=5, n_estimators=100))])\n",
    "\n",
    "\n",
    "rf_pipeline.fit(df_emails_train.content, df_emails_train.label)"
   ]
  },
  {
   "cell_type": "code",
   "execution_count": 30,
   "metadata": {
    "collapsed": true
   },
   "outputs": [],
   "source": [
    "test_predicted = rf_pipeline.predict(df_emails_test.content)"
   ]
  },
  {
   "cell_type": "code",
   "execution_count": 31,
   "metadata": {},
   "outputs": [
    {
     "name": "stdout",
     "output_type": "stream",
     "text": [
      "              precision    recall  f1-score   support\n",
      "\n",
      "         ham       0.86      1.00      0.92      1511\n",
      "       phish       1.00      0.84      0.91      1489\n",
      "\n",
      "   micro avg       0.92      0.92      0.92      3000\n",
      "   macro avg       0.93      0.92      0.92      3000\n",
      "weighted avg       0.93      0.92      0.92      3000\n",
      "\n"
     ]
    }
   ],
   "source": [
    "print (skmetrics.classification_report(df_emails_test.label, test_predicted))"
   ]
  },
  {
   "cell_type": "code",
   "execution_count": 32,
   "metadata": {},
   "outputs": [
    {
     "name": "stdout",
     "output_type": "stream",
     "text": [
      "Accuracy: 0.9176666666666666\n"
     ]
    }
   ],
   "source": [
    "print ('Accuracy:', skmetrics.accuracy_score(df_emails_test.label, test_predicted))"
   ]
  },
  {
   "cell_type": "code",
   "execution_count": 33,
   "metadata": {
    "collapsed": true
   },
   "outputs": [],
   "source": [
    "kfold = KFold(n_splits=5, random_state=0, shuffle = True)"
   ]
  },
  {
   "cell_type": "code",
   "execution_count": 34,
   "metadata": {},
   "outputs": [],
   "source": [
    "rf_scores = cross_val_predict(rf_pipeline, df_emails.content, df_emails.label, cv=kfold)"
   ]
  },
  {
   "cell_type": "code",
   "execution_count": 35,
   "metadata": {},
   "outputs": [
    {
     "name": "stdout",
     "output_type": "stream",
     "text": [
      "              precision    recall  f1-score   support\n",
      "\n",
      "         ham       0.86      1.00      0.92      5000\n",
      "       phish       1.00      0.84      0.91      5000\n",
      "\n",
      "   micro avg       0.92      0.92      0.92     10000\n",
      "   macro avg       0.93      0.92      0.92     10000\n",
      "weighted avg       0.93      0.92      0.92     10000\n",
      "\n"
     ]
    }
   ],
   "source": [
    "print(skmetrics.classification_report(df_emails.label, rf_scores))"
   ]
  },
  {
   "cell_type": "code",
   "execution_count": 36,
   "metadata": {},
   "outputs": [
    {
     "name": "stdout",
     "output_type": "stream",
     "text": [
      "fold 0\n",
      "              precision    recall  f1-score   support\n",
      "\n",
      "         ham       0.87      1.00      0.93      1021\n",
      "       phish       1.00      0.85      0.92       979\n",
      "\n",
      "   micro avg       0.92      0.92      0.92      2000\n",
      "   macro avg       0.94      0.92      0.92      2000\n",
      "weighted avg       0.93      0.92      0.92      2000\n",
      "\n",
      "fold 1\n",
      "              precision    recall  f1-score   support\n",
      "\n",
      "         ham       0.88      1.00      0.94       993\n",
      "       phish       1.00      0.87      0.93      1007\n",
      "\n",
      "   micro avg       0.93      0.93      0.93      2000\n",
      "   macro avg       0.94      0.93      0.93      2000\n",
      "weighted avg       0.94      0.93      0.93      2000\n",
      "\n",
      "fold 2\n",
      "              precision    recall  f1-score   support\n",
      "\n",
      "         ham       0.86      1.00      0.93       991\n",
      "       phish       1.00      0.85      0.92      1009\n",
      "\n",
      "   micro avg       0.92      0.92      0.92      2000\n",
      "   macro avg       0.93      0.92      0.92      2000\n",
      "weighted avg       0.93      0.92      0.92      2000\n",
      "\n",
      "fold 3\n",
      "              precision    recall  f1-score   support\n",
      "\n",
      "         ham       0.86      1.00      0.92      1000\n",
      "       phish       1.00      0.83      0.91      1000\n",
      "\n",
      "   micro avg       0.92      0.92      0.92      2000\n",
      "   macro avg       0.93      0.92      0.91      2000\n",
      "weighted avg       0.93      0.92      0.91      2000\n",
      "\n",
      "fold 4\n",
      "              precision    recall  f1-score   support\n",
      "\n",
      "         ham       0.85      1.00      0.92       995\n",
      "       phish       1.00      0.82      0.90      1005\n",
      "\n",
      "   micro avg       0.91      0.91      0.91      2000\n",
      "   macro avg       0.92      0.91      0.91      2000\n",
      "weighted avg       0.92      0.91      0.91      2000\n",
      "\n",
      "F1 Micro: 0.9209999999999999\n",
      "F1 Macro: 0.9205000485841431\n",
      "F1 Weighted: 0.9205079319585814\n",
      "\n",
      "Precision Micro: 0.9209999999999999\n",
      "Precision Macro: 0.9315042656832337\n",
      "Preicision Weighted: 0.9315162276177326\n",
      "\n",
      "Recall Micro: 0.9209999999999999\n",
      "Recall Macro: 0.9209980485166931\n",
      "Recall Weighted: 0.9209999999999999\n",
      "\n",
      "avg accuracy: 0.92\n",
      "avg phish precision: 1.0\n",
      "avg phish recall: 0.84\n"
     ]
    }
   ],
   "source": [
    "#Random Forest + Netcraft\n",
    "netcraft_cv(df_emails, rf_pipeline)"
   ]
  },
  {
   "cell_type": "markdown",
   "metadata": {},
   "source": [
    "### Multinomial Naive Bayes"
   ]
  },
  {
   "cell_type": "code",
   "execution_count": 37,
   "metadata": {},
   "outputs": [],
   "source": [
    "pipeline = skpipe.Pipeline(\n",
    "    steps = [('vect', skft.CountVectorizer(max_df=0.7)),\n",
    "     ('tfidf', skft.TfidfTransformer()),\n",
    "     ('clf', sknb.MultinomialNB())])\n"
   ]
  },
  {
   "cell_type": "code",
   "execution_count": 38,
   "metadata": {},
   "outputs": [
    {
     "data": {
      "text/plain": [
       "Pipeline(memory=None,\n",
       "     steps=[('vect', CountVectorizer(analyzer='word', binary=False, decode_error='strict',\n",
       "        dtype=<class 'numpy.int64'>, encoding='utf-8', input='content',\n",
       "        lowercase=True, max_df=0.7, max_features=None, min_df=1,\n",
       "        ngram_range=(1, 1), preprocessor=None, stop_words=None,\n",
       "        strip...inear_tf=False, use_idf=True)), ('clf', MultinomialNB(alpha=1.0, class_prior=None, fit_prior=True))])"
      ]
     },
     "execution_count": 38,
     "metadata": {},
     "output_type": "execute_result"
    }
   ],
   "source": [
    "df_emails_train, df_emails_test = train_test_split(df_emails, test_size=0.3, random_state=0)\n",
    "pipeline.fit(df_emails_train.content, df_emails_train.label)"
   ]
  },
  {
   "cell_type": "code",
   "execution_count": 39,
   "metadata": {
    "collapsed": true
   },
   "outputs": [],
   "source": [
    "nb_test_predicted = pipeline.predict(df_emails_test.content)"
   ]
  },
  {
   "cell_type": "code",
   "execution_count": 40,
   "metadata": {},
   "outputs": [
    {
     "data": {
      "text/html": [
       "<div>\n",
       "<style scoped>\n",
       "    .dataframe tbody tr th:only-of-type {\n",
       "        vertical-align: middle;\n",
       "    }\n",
       "\n",
       "    .dataframe tbody tr th {\n",
       "        vertical-align: top;\n",
       "    }\n",
       "\n",
       "    .dataframe thead th {\n",
       "        text-align: right;\n",
       "    }\n",
       "</style>\n",
       "<table border=\"1\" class=\"dataframe\">\n",
       "  <thead>\n",
       "    <tr style=\"text-align: right;\">\n",
       "      <th></th>\n",
       "      <th>label</th>\n",
       "      <th>title</th>\n",
       "      <th>content</th>\n",
       "      <th>malic</th>\n",
       "    </tr>\n",
       "  </thead>\n",
       "  <tbody>\n",
       "    <tr>\n",
       "      <th>1663</th>\n",
       "      <td>phish</td>\n",
       "      <td>1870_False.txt</td>\n",
       "      <td>Subject: This credit card transaction will app...</td>\n",
       "      <td>False</td>\n",
       "    </tr>\n",
       "    <tr>\n",
       "      <th>898</th>\n",
       "      <td>ham</td>\n",
       "      <td>4761.2002-01-02.kitchen.ham.txt</td>\n",
       "      <td>Subject: fw : netco\\ntammie :\\ntx gas orig :\\n...</td>\n",
       "      <td>False</td>\n",
       "    </tr>\n",
       "    <tr>\n",
       "      <th>2398</th>\n",
       "      <td>ham</td>\n",
       "      <td>3867.2001-11-09.kitchen.ham.txt</td>\n",
       "      <td>Subject: dynegy and enron\\n- - - - - original ...</td>\n",
       "      <td>False</td>\n",
       "    </tr>\n",
       "    <tr>\n",
       "      <th>54</th>\n",
       "      <td>phish</td>\n",
       "      <td>378_False.txt</td>\n",
       "      <td>Subject: [*** POSIBLE SPAM***] IMPORTANT: CUNA...</td>\n",
       "      <td>False</td>\n",
       "    </tr>\n",
       "    <tr>\n",
       "      <th>2343</th>\n",
       "      <td>ham</td>\n",
       "      <td>5149.2002-01-18.kitchen.ham.txt</td>\n",
       "      <td>Subject: re : fw : www . ubsenergy . com or ww...</td>\n",
       "      <td>False</td>\n",
       "    </tr>\n",
       "  </tbody>\n",
       "</table>\n",
       "</div>"
      ],
      "text/plain": [
       "      label                            title  \\\n",
       "1663  phish                   1870_False.txt   \n",
       "898     ham  4761.2002-01-02.kitchen.ham.txt   \n",
       "2398    ham  3867.2001-11-09.kitchen.ham.txt   \n",
       "54    phish                    378_False.txt   \n",
       "2343    ham  5149.2002-01-18.kitchen.ham.txt   \n",
       "\n",
       "                                                content  malic  \n",
       "1663  Subject: This credit card transaction will app...  False  \n",
       "898   Subject: fw : netco\\ntammie :\\ntx gas orig :\\n...  False  \n",
       "2398  Subject: dynegy and enron\\n- - - - - original ...  False  \n",
       "54    Subject: [*** POSIBLE SPAM***] IMPORTANT: CUNA...  False  \n",
       "2343  Subject: re : fw : www . ubsenergy . com or ww...  False  "
      ]
     },
     "execution_count": 40,
     "metadata": {},
     "output_type": "execute_result"
    }
   ],
   "source": [
    "df_emails_test.head()"
   ]
  },
  {
   "cell_type": "code",
   "execution_count": 41,
   "metadata": {
    "collapsed": true
   },
   "outputs": [],
   "source": [
    "df_emails_test['predicted_label'] = df_emails_test.apply(netcraft_algo, axis = 1)"
   ]
  },
  {
   "cell_type": "code",
   "execution_count": 42,
   "metadata": {},
   "outputs": [
    {
     "data": {
      "text/html": [
       "<div>\n",
       "<style scoped>\n",
       "    .dataframe tbody tr th:only-of-type {\n",
       "        vertical-align: middle;\n",
       "    }\n",
       "\n",
       "    .dataframe tbody tr th {\n",
       "        vertical-align: top;\n",
       "    }\n",
       "\n",
       "    .dataframe thead th {\n",
       "        text-align: right;\n",
       "    }\n",
       "</style>\n",
       "<table border=\"1\" class=\"dataframe\">\n",
       "  <thead>\n",
       "    <tr style=\"text-align: right;\">\n",
       "      <th></th>\n",
       "      <th>label</th>\n",
       "      <th>title</th>\n",
       "      <th>content</th>\n",
       "      <th>malic</th>\n",
       "      <th>predicted_label</th>\n",
       "    </tr>\n",
       "  </thead>\n",
       "  <tbody>\n",
       "    <tr>\n",
       "      <th>1663</th>\n",
       "      <td>phish</td>\n",
       "      <td>1870_False.txt</td>\n",
       "      <td>Subject: This credit card transaction will app...</td>\n",
       "      <td>False</td>\n",
       "      <td>None</td>\n",
       "    </tr>\n",
       "    <tr>\n",
       "      <th>898</th>\n",
       "      <td>ham</td>\n",
       "      <td>4761.2002-01-02.kitchen.ham.txt</td>\n",
       "      <td>Subject: fw : netco\\ntammie :\\ntx gas orig :\\n...</td>\n",
       "      <td>False</td>\n",
       "      <td>None</td>\n",
       "    </tr>\n",
       "    <tr>\n",
       "      <th>2398</th>\n",
       "      <td>ham</td>\n",
       "      <td>3867.2001-11-09.kitchen.ham.txt</td>\n",
       "      <td>Subject: dynegy and enron\\n- - - - - original ...</td>\n",
       "      <td>False</td>\n",
       "      <td>None</td>\n",
       "    </tr>\n",
       "    <tr>\n",
       "      <th>54</th>\n",
       "      <td>phish</td>\n",
       "      <td>378_False.txt</td>\n",
       "      <td>Subject: [*** POSIBLE SPAM***] IMPORTANT: CUNA...</td>\n",
       "      <td>False</td>\n",
       "      <td>None</td>\n",
       "    </tr>\n",
       "    <tr>\n",
       "      <th>2343</th>\n",
       "      <td>ham</td>\n",
       "      <td>5149.2002-01-18.kitchen.ham.txt</td>\n",
       "      <td>Subject: re : fw : www . ubsenergy . com or ww...</td>\n",
       "      <td>False</td>\n",
       "      <td>None</td>\n",
       "    </tr>\n",
       "  </tbody>\n",
       "</table>\n",
       "</div>"
      ],
      "text/plain": [
       "      label                            title  \\\n",
       "1663  phish                   1870_False.txt   \n",
       "898     ham  4761.2002-01-02.kitchen.ham.txt   \n",
       "2398    ham  3867.2001-11-09.kitchen.ham.txt   \n",
       "54    phish                    378_False.txt   \n",
       "2343    ham  5149.2002-01-18.kitchen.ham.txt   \n",
       "\n",
       "                                                content  malic predicted_label  \n",
       "1663  Subject: This credit card transaction will app...  False            None  \n",
       "898   Subject: fw : netco\\ntammie :\\ntx gas orig :\\n...  False            None  \n",
       "2398  Subject: dynegy and enron\\n- - - - - original ...  False            None  \n",
       "54    Subject: [*** POSIBLE SPAM***] IMPORTANT: CUNA...  False            None  \n",
       "2343  Subject: re : fw : www . ubsenergy . com or ww...  False            None  "
      ]
     },
     "execution_count": 42,
     "metadata": {},
     "output_type": "execute_result"
    }
   ],
   "source": [
    "df_emails_test.head()"
   ]
  },
  {
   "cell_type": "code",
   "execution_count": 43,
   "metadata": {
    "collapsed": true
   },
   "outputs": [],
   "source": [
    "netcraft_test_predicted = [x for x in df_emails_test['predicted_label']]"
   ]
  },
  {
   "cell_type": "code",
   "execution_count": 44,
   "metadata": {
    "collapsed": true
   },
   "outputs": [],
   "source": [
    "test_predicted = []\n",
    "for a, b in zip(netcraft_test_predicted, nb_test_predicted):\n",
    "    #print(a, b)\n",
    "    if((a == 'phish') and (b != 'phish')):\n",
    "        test_predicted.append(a)\n",
    "    else:\n",
    "        test_predicted.append(b)"
   ]
  },
  {
   "cell_type": "code",
   "execution_count": 45,
   "metadata": {},
   "outputs": [],
   "source": [
    "df_emails_test['predicted_label'] = test_predicted"
   ]
  },
  {
   "cell_type": "code",
   "execution_count": 46,
   "metadata": {},
   "outputs": [
    {
     "data": {
      "text/html": [
       "<div>\n",
       "<style scoped>\n",
       "    .dataframe tbody tr th:only-of-type {\n",
       "        vertical-align: middle;\n",
       "    }\n",
       "\n",
       "    .dataframe tbody tr th {\n",
       "        vertical-align: top;\n",
       "    }\n",
       "\n",
       "    .dataframe thead th {\n",
       "        text-align: right;\n",
       "    }\n",
       "</style>\n",
       "<table border=\"1\" class=\"dataframe\">\n",
       "  <thead>\n",
       "    <tr style=\"text-align: right;\">\n",
       "      <th></th>\n",
       "      <th>label</th>\n",
       "      <th>title</th>\n",
       "      <th>content</th>\n",
       "      <th>malic</th>\n",
       "      <th>predicted_label</th>\n",
       "    </tr>\n",
       "  </thead>\n",
       "  <tbody>\n",
       "    <tr>\n",
       "      <th>1663</th>\n",
       "      <td>phish</td>\n",
       "      <td>1870_False.txt</td>\n",
       "      <td>Subject: This credit card transaction will app...</td>\n",
       "      <td>False</td>\n",
       "      <td>phish</td>\n",
       "    </tr>\n",
       "    <tr>\n",
       "      <th>898</th>\n",
       "      <td>ham</td>\n",
       "      <td>4761.2002-01-02.kitchen.ham.txt</td>\n",
       "      <td>Subject: fw : netco\\ntammie :\\ntx gas orig :\\n...</td>\n",
       "      <td>False</td>\n",
       "      <td>ham</td>\n",
       "    </tr>\n",
       "    <tr>\n",
       "      <th>2398</th>\n",
       "      <td>ham</td>\n",
       "      <td>3867.2001-11-09.kitchen.ham.txt</td>\n",
       "      <td>Subject: dynegy and enron\\n- - - - - original ...</td>\n",
       "      <td>False</td>\n",
       "      <td>ham</td>\n",
       "    </tr>\n",
       "    <tr>\n",
       "      <th>54</th>\n",
       "      <td>phish</td>\n",
       "      <td>378_False.txt</td>\n",
       "      <td>Subject: [*** POSIBLE SPAM***] IMPORTANT: CUNA...</td>\n",
       "      <td>False</td>\n",
       "      <td>phish</td>\n",
       "    </tr>\n",
       "    <tr>\n",
       "      <th>2343</th>\n",
       "      <td>ham</td>\n",
       "      <td>5149.2002-01-18.kitchen.ham.txt</td>\n",
       "      <td>Subject: re : fw : www . ubsenergy . com or ww...</td>\n",
       "      <td>False</td>\n",
       "      <td>ham</td>\n",
       "    </tr>\n",
       "  </tbody>\n",
       "</table>\n",
       "</div>"
      ],
      "text/plain": [
       "      label                            title  \\\n",
       "1663  phish                   1870_False.txt   \n",
       "898     ham  4761.2002-01-02.kitchen.ham.txt   \n",
       "2398    ham  3867.2001-11-09.kitchen.ham.txt   \n",
       "54    phish                    378_False.txt   \n",
       "2343    ham  5149.2002-01-18.kitchen.ham.txt   \n",
       "\n",
       "                                                content  malic predicted_label  \n",
       "1663  Subject: This credit card transaction will app...  False           phish  \n",
       "898   Subject: fw : netco\\ntammie :\\ntx gas orig :\\n...  False             ham  \n",
       "2398  Subject: dynegy and enron\\n- - - - - original ...  False             ham  \n",
       "54    Subject: [*** POSIBLE SPAM***] IMPORTANT: CUNA...  False           phish  \n",
       "2343  Subject: re : fw : www . ubsenergy . com or ww...  False             ham  "
      ]
     },
     "execution_count": 46,
     "metadata": {},
     "output_type": "execute_result"
    }
   ],
   "source": [
    "df_emails_test.head()"
   ]
  },
  {
   "cell_type": "code",
   "execution_count": 47,
   "metadata": {},
   "outputs": [
    {
     "name": "stdout",
     "output_type": "stream",
     "text": [
      "Accuracy: 0.9753333333333334\n"
     ]
    }
   ],
   "source": [
    "print ('Accuracy:', skmetrics.accuracy_score(df_emails_test.label, test_predicted))"
   ]
  },
  {
   "cell_type": "code",
   "execution_count": 48,
   "metadata": {},
   "outputs": [
    {
     "name": "stdout",
     "output_type": "stream",
     "text": [
      "              precision    recall  f1-score   support\n",
      "\n",
      "         ham       0.96      1.00      0.98      1511\n",
      "       phish       1.00      0.96      0.97      1489\n",
      "\n",
      "   micro avg       0.98      0.98      0.98      3000\n",
      "   macro avg       0.98      0.98      0.98      3000\n",
      "weighted avg       0.98      0.98      0.98      3000\n",
      "\n"
     ]
    }
   ],
   "source": [
    "print (skmetrics.classification_report(df_emails_test.label, test_predicted))"
   ]
  },
  {
   "cell_type": "code",
   "execution_count": 49,
   "metadata": {},
   "outputs": [
    {
     "name": "stdout",
     "output_type": "stream",
     "text": [
      "KFold(n_splits=5, random_state=0, shuffle=True)\n"
     ]
    }
   ],
   "source": [
    "print(kfold)"
   ]
  },
  {
   "cell_type": "code",
   "execution_count": 50,
   "metadata": {},
   "outputs": [],
   "source": [
    "nb_scores = cross_val_predict(pipeline, df_emails.content, df_emails.label, cv=kfold)"
   ]
  },
  {
   "cell_type": "code",
   "execution_count": 51,
   "metadata": {},
   "outputs": [
    {
     "name": "stdout",
     "output_type": "stream",
     "text": [
      "              precision    recall  f1-score   support\n",
      "\n",
      "         ham       0.95      1.00      0.97      5000\n",
      "       phish       1.00      0.94      0.97      5000\n",
      "\n",
      "   micro avg       0.97      0.97      0.97     10000\n",
      "   macro avg       0.97      0.97      0.97     10000\n",
      "weighted avg       0.97      0.97      0.97     10000\n",
      "\n"
     ]
    }
   ],
   "source": [
    "#cross val without netcraft\n",
    "print(skmetrics.classification_report(df_emails.label, nb_scores))"
   ]
  },
  {
   "cell_type": "code",
   "execution_count": 52,
   "metadata": {},
   "outputs": [
    {
     "name": "stdout",
     "output_type": "stream",
     "text": [
      "fold 0\n",
      "              precision    recall  f1-score   support\n",
      "\n",
      "         ham       0.96      1.00      0.98      1021\n",
      "       phish       0.99      0.96      0.98       979\n",
      "\n",
      "   micro avg       0.98      0.98      0.98      2000\n",
      "   macro avg       0.98      0.98      0.98      2000\n",
      "weighted avg       0.98      0.98      0.98      2000\n",
      "\n",
      "fold 1\n",
      "              precision    recall  f1-score   support\n",
      "\n",
      "         ham       0.95      0.99      0.97       993\n",
      "       phish       0.99      0.95      0.97      1007\n",
      "\n",
      "   micro avg       0.97      0.97      0.97      2000\n",
      "   macro avg       0.97      0.97      0.97      2000\n",
      "weighted avg       0.97      0.97      0.97      2000\n",
      "\n",
      "fold 2\n",
      "              precision    recall  f1-score   support\n",
      "\n",
      "         ham       0.94      1.00      0.97       991\n",
      "       phish       1.00      0.93      0.97      1009\n",
      "\n",
      "   micro avg       0.97      0.97      0.97      2000\n",
      "   macro avg       0.97      0.97      0.97      2000\n",
      "weighted avg       0.97      0.97      0.97      2000\n",
      "\n",
      "fold 3\n",
      "              precision    recall  f1-score   support\n",
      "\n",
      "         ham       0.93      0.99      0.96      1000\n",
      "       phish       0.99      0.93      0.96      1000\n",
      "\n",
      "   micro avg       0.96      0.96      0.96      2000\n",
      "   macro avg       0.96      0.96      0.96      2000\n",
      "weighted avg       0.96      0.96      0.96      2000\n",
      "\n",
      "fold 4\n",
      "              precision    recall  f1-score   support\n",
      "\n",
      "         ham       0.94      1.00      0.97       995\n",
      "       phish       1.00      0.93      0.96      1005\n",
      "\n",
      "   micro avg       0.97      0.97      0.97      2000\n",
      "   macro avg       0.97      0.97      0.97      2000\n",
      "weighted avg       0.97      0.97      0.97      2000\n",
      "\n",
      "F1 Micro: 0.968\n",
      "F1 Macro: 0.9679742338190801\n",
      "F1 Weighted: 0.9679749607491168\n",
      "\n",
      "Precision Micro: 0.968\n",
      "Precision Macro: 0.9694657717829991\n",
      "Preicision Weighted: 0.9695120695780182\n",
      "\n",
      "Recall Micro: 0.968\n",
      "Recall Macro: 0.9680447318218658\n",
      "Recall Weighted: 0.968\n",
      "\n",
      "avg accuracy: 0.97\n",
      "avg phish precision: 1.0\n",
      "avg phish recall: 0.94\n"
     ]
    }
   ],
   "source": [
    "#MNB + Netcraft\n",
    "netcraft_cv(df_emails, pipeline)"
   ]
  },
  {
   "cell_type": "markdown",
   "metadata": {},
   "source": [
    "### Support Vector Machine"
   ]
  },
  {
   "cell_type": "code",
   "execution_count": 53,
   "metadata": {},
   "outputs": [],
   "source": [
    "svm_pipeline = skpipe.Pipeline(\n",
    "    steps = [('vect', skft.CountVectorizer(max_df=0.7, ngram_range = (1,1))),\n",
    "     ('tfidf', skft.TfidfTransformer(use_idf = True)),\n",
    "     ('clf', SGDClassifier())]\n",
    ")\n",
    "\n",
    "#svm_pipeline.fit(df_emails_train.content, df_emails_train.label)"
   ]
  },
  {
   "cell_type": "code",
   "execution_count": 54,
   "metadata": {
    "collapsed": true
   },
   "outputs": [],
   "source": [
    "parameters = {'vect__ngram_range': [(1, 1), (1, 2)], 'tfidf__use_idf': (True, False), 'clf__alpha': (1e-2, 1e-3)}"
   ]
  },
  {
   "cell_type": "code",
   "execution_count": 55,
   "metadata": {},
   "outputs": [],
   "source": [
    "svm_scores = cross_val_predict(svm_pipeline, df_emails.content, df_emails.label, cv=kfold)"
   ]
  },
  {
   "cell_type": "code",
   "execution_count": 56,
   "metadata": {},
   "outputs": [
    {
     "name": "stdout",
     "output_type": "stream",
     "text": [
      "              precision    recall  f1-score   support\n",
      "\n",
      "         ham       1.00      1.00      1.00      5000\n",
      "       phish       1.00      1.00      1.00      5000\n",
      "\n",
      "   micro avg       1.00      1.00      1.00     10000\n",
      "   macro avg       1.00      1.00      1.00     10000\n",
      "weighted avg       1.00      1.00      1.00     10000\n",
      "\n"
     ]
    }
   ],
   "source": [
    "print(skmetrics.classification_report(df_emails.label, svm_scores))"
   ]
  },
  {
   "cell_type": "code",
   "execution_count": 57,
   "metadata": {},
   "outputs": [
    {
     "name": "stdout",
     "output_type": "stream",
     "text": [
      "0.9962\n"
     ]
    }
   ],
   "source": [
    "print(skmetrics.accuracy_score(df_emails.label, svm_scores))"
   ]
  },
  {
   "cell_type": "code",
   "execution_count": 58,
   "metadata": {},
   "outputs": [
    {
     "name": "stdout",
     "output_type": "stream",
     "text": [
      "fold 0\n",
      "              precision    recall  f1-score   support\n",
      "\n",
      "         ham       1.00      1.00      1.00      1021\n",
      "       phish       0.99      1.00      1.00       979\n",
      "\n",
      "   micro avg       1.00      1.00      1.00      2000\n",
      "   macro avg       1.00      1.00      1.00      2000\n",
      "weighted avg       1.00      1.00      1.00      2000\n",
      "\n",
      "fold 1\n",
      "              precision    recall  f1-score   support\n",
      "\n",
      "         ham       1.00      1.00      1.00       993\n",
      "       phish       1.00      1.00      1.00      1007\n",
      "\n",
      "   micro avg       1.00      1.00      1.00      2000\n",
      "   macro avg       1.00      1.00      1.00      2000\n",
      "weighted avg       1.00      1.00      1.00      2000\n",
      "\n",
      "fold 2\n",
      "              precision    recall  f1-score   support\n",
      "\n",
      "         ham       1.00      1.00      1.00       991\n",
      "       phish       1.00      1.00      1.00      1009\n",
      "\n",
      "   micro avg       1.00      1.00      1.00      2000\n",
      "   macro avg       1.00      1.00      1.00      2000\n",
      "weighted avg       1.00      1.00      1.00      2000\n",
      "\n",
      "fold 3\n",
      "              precision    recall  f1-score   support\n",
      "\n",
      "         ham       1.00      0.99      0.99      1000\n",
      "       phish       0.99      1.00      0.99      1000\n",
      "\n",
      "   micro avg       0.99      0.99      0.99      2000\n",
      "   macro avg       0.99      0.99      0.99      2000\n",
      "weighted avg       0.99      0.99      0.99      2000\n",
      "\n",
      "fold 4\n",
      "              precision    recall  f1-score   support\n",
      "\n",
      "         ham       1.00      1.00      1.00       995\n",
      "       phish       1.00      1.00      1.00      1005\n",
      "\n",
      "   micro avg       1.00      1.00      1.00      2000\n",
      "   macro avg       1.00      1.00      1.00      2000\n",
      "weighted avg       1.00      1.00      1.00      2000\n",
      "\n",
      "F1 Micro: 0.9966000000000002\n",
      "F1 Macro: 0.9965996349916848\n",
      "F1 Weighted: 0.9966000092571079\n",
      "\n",
      "Precision Micro: 0.9966000000000002\n",
      "Precision Macro: 0.996599146874001\n",
      "Preicision Weighted: 0.9966028083099665\n",
      "\n",
      "Recall Micro: 0.9966000000000002\n",
      "Recall Macro: 0.9966029137626616\n",
      "Recall Weighted: 0.9966000000000002\n",
      "\n",
      "avg accuracy: 1.0\n",
      "avg phish precision: 1.0\n",
      "avg phish recall: 1.0\n"
     ]
    }
   ],
   "source": [
    "#SVM + Netcraft\n",
    "netcraft_cv(df_emails, svm_pipeline)"
   ]
  },
  {
   "cell_type": "markdown",
   "metadata": {},
   "source": [
    "### Extra: Attempting to label spam folder as phishing"
   ]
  },
  {
   "cell_type": "code",
   "execution_count": 59,
   "metadata": {
    "collapsed": true
   },
   "outputs": [],
   "source": [
    "titles = []\n",
    "contents = []\n",
    "labels = []\n",
    "\n",
    "for f in os.listdir(os.path.join('enron6','spam')):\n",
    "        with open(os.path.join('enron6', 'spam', f), 'r') as reader:\n",
    "            try:\n",
    "                c = reader.read()\n",
    "            except:\n",
    "                continue\n",
    "            contents.append(c)\n",
    "            titles.append(f)\n",
    "            labels.append('ham')\n",
    "\n",
    "df_spam = pd.DataFrame({'title': titles, 'content': contents, 'label': 'spam'},\n",
    "                    columns = ['label', 'title', 'content'])"
   ]
  },
  {
   "cell_type": "code",
   "execution_count": 60,
   "metadata": {},
   "outputs": [],
   "source": [
    "predictions = svm_pipeline.predict(df_spam.content)"
   ]
  },
  {
   "cell_type": "code",
   "execution_count": 61,
   "metadata": {},
   "outputs": [],
   "source": [
    "df_spam['predicted_label'] = predictions"
   ]
  },
  {
   "cell_type": "code",
   "execution_count": 62,
   "metadata": {},
   "outputs": [
    {
     "data": {
      "text/html": [
       "<div>\n",
       "<style scoped>\n",
       "    .dataframe tbody tr th:only-of-type {\n",
       "        vertical-align: middle;\n",
       "    }\n",
       "\n",
       "    .dataframe tbody tr th {\n",
       "        vertical-align: top;\n",
       "    }\n",
       "\n",
       "    .dataframe thead th {\n",
       "        text-align: right;\n",
       "    }\n",
       "</style>\n",
       "<table border=\"1\" class=\"dataframe\">\n",
       "  <thead>\n",
       "    <tr style=\"text-align: right;\">\n",
       "      <th></th>\n",
       "      <th>label</th>\n",
       "      <th>title</th>\n",
       "      <th>content</th>\n",
       "      <th>predicted_label</th>\n",
       "    </tr>\n",
       "  </thead>\n",
       "  <tbody>\n",
       "    <tr>\n",
       "      <th>0</th>\n",
       "      <td>spam</td>\n",
       "      <td>2922.2005-01-22.BG.spam.txt</td>\n",
       "      <td>Subject: friend , never be in pain again\\nis y...</td>\n",
       "      <td>phish</td>\n",
       "    </tr>\n",
       "    <tr>\n",
       "      <th>1</th>\n",
       "      <td>spam</td>\n",
       "      <td>5451.2005-06-27.BG.spam.txt</td>\n",
       "      <td>Subject: if you can ' t beat em , join em *\\ng...</td>\n",
       "      <td>phish</td>\n",
       "    </tr>\n",
       "    <tr>\n",
       "      <th>2</th>\n",
       "      <td>spam</td>\n",
       "      <td>6000.2005-07-31.BG.spam.txt</td>\n",
       "      <td>Subject: dear sir , i am interested in it\\nhi ...</td>\n",
       "      <td>ham</td>\n",
       "    </tr>\n",
       "    <tr>\n",
       "      <th>3</th>\n",
       "      <td>spam</td>\n",
       "      <td>1496.2004-11-08.BG.spam.txt</td>\n",
       "      <td>Subject: photos\\nglade bismark healer reflecti...</td>\n",
       "      <td>phish</td>\n",
       "    </tr>\n",
       "    <tr>\n",
       "      <th>4</th>\n",
       "      <td>spam</td>\n",
       "      <td>2203.2004-12-19.BG.spam.txt</td>\n",
       "      <td>Subject: message subject\\nneonatal sclerotic m...</td>\n",
       "      <td>phish</td>\n",
       "    </tr>\n",
       "  </tbody>\n",
       "</table>\n",
       "</div>"
      ],
      "text/plain": [
       "  label                        title  \\\n",
       "0  spam  2922.2005-01-22.BG.spam.txt   \n",
       "1  spam  5451.2005-06-27.BG.spam.txt   \n",
       "2  spam  6000.2005-07-31.BG.spam.txt   \n",
       "3  spam  1496.2004-11-08.BG.spam.txt   \n",
       "4  spam  2203.2004-12-19.BG.spam.txt   \n",
       "\n",
       "                                             content predicted_label  \n",
       "0  Subject: friend , never be in pain again\\nis y...           phish  \n",
       "1  Subject: if you can ' t beat em , join em *\\ng...           phish  \n",
       "2  Subject: dear sir , i am interested in it\\nhi ...             ham  \n",
       "3  Subject: photos\\nglade bismark healer reflecti...           phish  \n",
       "4  Subject: message subject\\nneonatal sclerotic m...           phish  "
      ]
     },
     "execution_count": 62,
     "metadata": {},
     "output_type": "execute_result"
    }
   ],
   "source": [
    "df_spam.head()"
   ]
  },
  {
   "cell_type": "code",
   "execution_count": null,
   "metadata": {
    "collapsed": true
   },
   "outputs": [],
   "source": []
  }
 ],
 "metadata": {
  "kernelspec": {
   "display_name": "Python 3",
   "language": "python",
   "name": "python3"
  },
  "language_info": {
   "codemirror_mode": {
    "name": "ipython",
    "version": 3
   },
   "file_extension": ".py",
   "mimetype": "text/x-python",
   "name": "python",
   "nbconvert_exporter": "python",
   "pygments_lexer": "ipython3",
   "version": "3.6.1"
  }
 },
 "nbformat": 4,
 "nbformat_minor": 2
}
